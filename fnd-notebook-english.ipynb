{
 "cells": [
  {
   "cell_type": "markdown",
   "metadata": {
    "_cell_guid": "209d4f9c-ebba-444a-9f37-0974b22705d5",
    "_uuid": "f4e40034-ff53-412f-9e8a-c76960fcc187",
    "collapsed": false,
    "jupyter": {
     "outputs_hidden": false
    },
    "trusted": true
   },
   "source": [
    "# Fake News Detection Englsih\n"
   ]
  },
  {
   "cell_type": "markdown",
   "metadata": {
    "_cell_guid": "39dedb00-7cba-4701-a87a-197916f53b6c",
    "_uuid": "b659321e-9362-4592-9837-5c9031aa2217",
    "collapsed": false,
    "jupyter": {
     "outputs_hidden": false
    },
    "trusted": true
   },
   "source": [
    "> ## Install Requirements"
   ]
  },
  {
   "cell_type": "code",
   "execution_count": null,
   "metadata": {
    "_cell_guid": "b18f5ba9-4bbe-41bd-bcab-673f155abfbb",
    "_uuid": "a1e8a96c-2820-47ce-b69b-fca2c486065c",
    "collapsed": false,
    "execution": {
     "iopub.execute_input": "2025-04-24T15:25:40.130635Z",
     "iopub.status.busy": "2025-04-24T15:25:40.129947Z",
     "iopub.status.idle": "2025-04-24T15:26:01.909188Z",
     "shell.execute_reply": "2025-04-24T15:26:01.908503Z",
     "shell.execute_reply.started": "2025-04-24T15:25:40.130610Z"
    },
    "jupyter": {
     "outputs_hidden": false
    },
    "trusted": true
   },
   "outputs": [],
   "source": [
    "!pip install farasapy\n",
    "!pip install tqdm\n",
    "!pip install gensim\n",
    "!pip install spacy\n",
    "!pip install scipy\n",
    "!pip install wandb\n",
    "!pip install nltk"
   ]
  },
  {
   "cell_type": "markdown",
   "metadata": {},
   "source": [
    "> ## Import Requirements"
   ]
  },
  {
   "cell_type": "code",
   "execution_count": null,
   "metadata": {
    "_cell_guid": "5eaa418d-8678-4638-baf9-241593bf0c38",
    "_uuid": "83cb5932-c783-4ae1-977a-3c50386fe273",
    "collapsed": false,
    "execution": {
     "iopub.execute_input": "2025-04-24T15:26:01.910744Z",
     "iopub.status.busy": "2025-04-24T15:26:01.910504Z",
     "iopub.status.idle": "2025-04-24T15:26:39.641889Z",
     "shell.execute_reply": "2025-04-24T15:26:39.641321Z",
     "shell.execute_reply.started": "2025-04-24T15:26:01.910722Z"
    },
    "jupyter": {
     "outputs_hidden": false
    },
    "trusted": true
   },
   "outputs": [],
   "source": [
    "import pandas as pd \n",
    "import re\n",
    "import string\n",
    "import numpy as np\n",
    "import matplotlib.pyplot as plt\n",
    "import pickle\n",
    "from time import time\n",
    "from pathlib import Path\n",
    "from sklearn.metrics import roc_auc_score, roc_curve\n",
    "import matplotlib.pyplot as plt\n",
    "\n",
    "import joblib\n",
    "import spacy\n",
    "import nltk\n",
    "from nltk.corpus import stopwords\n",
    "from nltk.stem.snowball import SnowballStemmer\n",
    "from nltk.tokenize import sent_tokenize\n",
    "from nltk.tokenize import word_tokenize\n",
    "from farasa.stemmer import FarasaStemmer\n",
    "from farasa.segmenter import FarasaSegmenter\n",
    "import unicodedata\n",
    "from nltk.stem import WordNetLemmatizer\n",
    "\n",
    "from multiprocessing import Pool\n",
    "from concurrent.futures import ThreadPoolExecutor\n",
    "\n",
    "from tqdm import tqdm\n",
    "import warnings\n",
    "warnings.filterwarnings('ignore')\n",
    "\n",
    "import joblib\n",
    "from sklearn.model_selection import train_test_split\n",
    "\n",
    "\n",
    "from sklearn.linear_model import LogisticRegression\n",
    "from sklearn.ensemble import GradientBoostingClassifier, RandomForestClassifier\n",
    "from sklearn.svm import SVC\n",
    "from xgboost import XGBClassifier\n",
    "\n",
    "from sklearn.metrics import accuracy_score, precision_score, recall_score, f1_score, classification_report , confusion_matrix, ConfusionMatrixDisplay\n",
    "\n",
    "from gensim.models.fasttext import load_facebook_vectors\n",
    "\n",
    "\n",
    "import tensorflow as tf\n",
    "from tensorflow.keras.models import Sequential\n",
    "from tensorflow.keras.layers import LSTM, Dense, Dropout, Input,BatchNormalization\n",
    "import tensorflow as tf\n",
    "from tensorflow.keras.models import Sequential\n",
    "from tensorflow.keras.layers import Embedding, LSTM, Dropout, BatchNormalization, Dense, Bidirectional\n",
    "\n",
    "\n",
    "\n",
    "import torch\n",
    "from transformers import XLMRobertaTokenizer, XLMRobertaForSequenceClassification, Trainer, TrainingArguments\n",
    "from datasets import Dataset"
   ]
  },
  {
   "cell_type": "markdown",
   "metadata": {},
   "source": [
    "> ## Import Data"
   ]
  },
  {
   "cell_type": "code",
   "execution_count": 1,
   "metadata": {},
   "outputs": [
    {
     "ename": "NameError",
     "evalue": "name 'pd' is not defined",
     "output_type": "error",
     "traceback": [
      "\u001b[1;31m---------------------------------------------------------------------------\u001b[0m",
      "\u001b[1;31mNameError\u001b[0m                                 Traceback (most recent call last)",
      "Cell \u001b[1;32mIn[1], line 1\u001b[0m\n\u001b[1;32m----> 1\u001b[0m df_en \u001b[38;5;241m=\u001b[39m  \u001b[43mpd\u001b[49m\u001b[38;5;241m.\u001b[39mread_csv(\u001b[38;5;124m'\u001b[39m\u001b[38;5;124m/Cleaned_Data/processed_en_data.csv\u001b[39m\u001b[38;5;124m'\u001b[39m)\n",
      "\u001b[1;31mNameError\u001b[0m: name 'pd' is not defined"
     ]
    }
   ],
   "source": [
    "df_en =  pd.read_csv('/Cleaned_Data/processed_en_data.csv')"
   ]
  },
  {
   "cell_type": "code",
   "execution_count": null,
   "metadata": {},
   "outputs": [],
   "source": [
    "df_en"
   ]
  },
  {
   "cell_type": "code",
   "execution_count": null,
   "metadata": {},
   "outputs": [],
   "source": [
    "X = df_en['text']\n",
    "y = df_en['label']"
   ]
  },
  {
   "cell_type": "markdown",
   "metadata": {
    "_cell_guid": "1e2bb383-35b9-4998-9f5b-1f8e887ad8cd",
    "_uuid": "235841f2-8094-432c-ab6c-8cd76e2cf67d",
    "collapsed": false,
    "jupyter": {
     "outputs_hidden": false
    },
    "trusted": true
   },
   "source": [
    "> ##  Vectorization (TFIDF)"
   ]
  },
  {
   "cell_type": "code",
   "execution_count": null,
   "metadata": {
    "_cell_guid": "4905d8c5-d38f-4ee3-8f77-f38d636302e7",
    "_uuid": "b9c234b5-b3a4-439b-8462-2db95f25e9a1",
    "collapsed": false,
    "execution": {
     "iopub.execute_input": "2025-04-24T14:01:51.612531Z",
     "iopub.status.busy": "2025-04-24T14:01:51.612267Z",
     "iopub.status.idle": "2025-04-24T14:02:05.321452Z",
     "shell.execute_reply": "2025-04-24T14:02:05.320858Z",
     "shell.execute_reply.started": "2025-04-24T14:01:51.612507Z"
    },
    "jupyter": {
     "outputs_hidden": false
    },
    "trusted": true
   },
   "outputs": [],
   "source": [
    "from sklearn.feature_extraction.text import TfidfVectorizer\n",
    "\n",
    "tfidf = TfidfVectorizer()\n",
    "\n",
    "X_tfidf = tfidf.fit_transform(X)"
   ]
  },
  {
   "cell_type": "code",
   "execution_count": null,
   "metadata": {
    "_cell_guid": "866125ce-1aca-4de3-9c39-e87c2ecb1229",
    "_uuid": "cee14341-9997-44b2-82c0-66060a9fd54f",
    "collapsed": false,
    "execution": {
     "iopub.execute_input": "2025-04-24T14:02:05.322622Z",
     "iopub.status.busy": "2025-04-24T14:02:05.322337Z",
     "iopub.status.idle": "2025-04-24T14:02:05.434736Z",
     "shell.execute_reply": "2025-04-24T14:02:05.433852Z",
     "shell.execute_reply.started": "2025-04-24T14:02:05.322598Z"
    },
    "jupyter": {
     "outputs_hidden": false
    },
    "trusted": true
   },
   "outputs": [],
   "source": [
    "X_train, X_test, y_train, y_test = train_test_split(X_tfidf, y, test_size=0.20 , random_state=42, stratify=y)"
   ]
  },
  {
   "cell_type": "markdown",
   "metadata": {
    "_cell_guid": "6f193b68-e492-4ba2-950e-badb257da7fe",
    "_uuid": "b55d174d-d452-497e-8295-1ac2e0153dc0",
    "collapsed": false,
    "jupyter": {
     "outputs_hidden": false
    },
    "trusted": true
   },
   "source": [
    "> ## Train ML Models"
   ]
  },
  {
   "cell_type": "code",
   "execution_count": null,
   "metadata": {
    "_cell_guid": "11e808c1-6ce5-4beb-8c5b-c8639b674b1d",
    "_uuid": "04a765f7-0ebc-4b71-91d2-43f3e800a2f9",
    "collapsed": false,
    "execution": {
     "iopub.execute_input": "2025-04-24T14:13:11.822351Z",
     "iopub.status.busy": "2025-04-24T14:13:11.821630Z",
     "iopub.status.idle": "2025-04-24T14:21:03.262943Z",
     "shell.execute_reply": "2025-04-24T14:21:03.262112Z",
     "shell.execute_reply.started": "2025-04-24T14:13:11.822328Z"
    },
    "jupyter": {
     "outputs_hidden": false
    },
    "trusted": true
   },
   "outputs": [],
   "source": [
    "\n",
    "models = {\n",
    "    \"Logistic Regression\": LogisticRegression(),\n",
    "    \"Gradient Boosting\": GradientBoostingClassifier(random_state=0),\n",
    "    \"Random Forest\": RandomForestClassifier(random_state=0),\n",
    "    \"XGBoost\": XGBClassifier(use_label_encoder=False, eval_metric='logloss', random_state=42),\n",
    "    \"SVM\": SVC(probability=True)  \n",
    "}\n",
    "\n",
    "def train_and_evaluate_model(name, model, X_train, y_train, X_test, y_test):\n",
    "    \"\"\"Train a single model and evaluate its performance\"\"\"\n",
    "    print(f\"⏳ Training {name}...\")\n",
    "    start_time = time()\n",
    "    \n",
    "    # Train model\n",
    "    model.fit(X_train, y_train)\n",
    "    training_time = time() - start_time\n",
    "    \n",
    "    # Evaluate\n",
    "    y_pred = model.predict(X_test)\n",
    "    \n",
    "    metrics = {\n",
    "        'accuracy': accuracy_score(y_test, y_pred),\n",
    "        'precision': precision_score(y_test, y_pred),\n",
    "        'recall': recall_score(y_test, y_pred),\n",
    "        'f1': f1_score(y_test, y_pred),\n",
    "        'training_time': training_time\n",
    "    }\n",
    "    report = classification_report(y_test, y_pred)\n",
    "    cm = confusion_matrix(y_test, y_pred)\n",
    "    print(f\"✅ {name} trained in {training_time:.2f}s\")\n",
    "    print(f\"\\n🔍 {name} Metrics:\")\n",
    "    print(f\"  Training Time: {metrics['training_time']:.2f}s\")\n",
    "    print(f\"  Accuracy: {metrics['accuracy']:.4f}\")\n",
    "    print(f\"  Precision: {metrics['precision']:.4f}\")\n",
    "    print(f\"  Recall: {metrics['recall']:.4f}\")\n",
    "    print(f\"  F1 Score: {metrics['f1']:.4f}\")\n",
    "    print(\"Classification Report:\")\n",
    "    print(report)\n",
    "\n",
    "    disp = ConfusionMatrixDisplay(confusion_matrix=cm, display_labels=model.classes_)\n",
    "    disp.plot(cmap='Blues')\n",
    "    plt.title(f\"Confusion Matrix - {name}\")\n",
    "    plt.show()\n",
    "\n",
    "\n",
    "    joblib.dump(model, f\"./Models/English/{name}_model.pkl\")\n",
    "    print(f\"✅ {name} model saved as {name}_model.pkl\")\n",
    "    print(\"─\" * 50)\n",
    "    return model, name, metrics, report\n",
    "\n",
    "\n",
    "\n",
    "results = []\n",
    "for name, model in models.items():\n",
    "    result = train_and_evaluate_model(name, model, X_train, y_train, X_test, y_test)\n",
    "    results.append(result)"
   ]
  },
  {
   "cell_type": "markdown",
   "metadata": {
    "_cell_guid": "47c2dd08-9105-4491-a6c3-b1ab3db5b9ba",
    "_uuid": "8b514254-6f93-4e68-aacb-3237481f26e3",
    "collapsed": false,
    "jupyter": {
     "outputs_hidden": false
    },
    "trusted": true
   },
   "source": [
    "> ## Word embedding ( Word2Vec)"
   ]
  },
  {
   "cell_type": "markdown",
   "metadata": {},
   "source": [
    "Download the model from : \n",
    "https://www.kaggle.com/datasets/sugataghosh/google-word2vec"
   ]
  },
  {
   "cell_type": "code",
   "execution_count": null,
   "metadata": {
    "_cell_guid": "2b0dd074-1246-4a77-a967-8b75bf917c10",
    "_uuid": "4d7f19d5-a27e-40c0-bb07-80c30acf09e5",
    "collapsed": false,
    "execution": {
     "iopub.execute_input": "2025-04-24T14:23:51.705886Z",
     "iopub.status.busy": "2025-04-24T14:23:51.705130Z",
     "iopub.status.idle": "2025-04-24T14:24:13.897768Z",
     "shell.execute_reply": "2025-04-24T14:24:13.897194Z",
     "shell.execute_reply.started": "2025-04-24T14:23:51.705864Z"
    },
    "jupyter": {
     "outputs_hidden": false
    },
    "trusted": true
   },
   "outputs": [],
   "source": [
    "from gensim.models import KeyedVectors\n",
    "\n",
    "word2vec = KeyedVectors.load_word2vec_format(\n",
    "    'path/GoogleNews-vectors-negative300.bin', \n",
    "    binary=True\n",
    ")"
   ]
  },
  {
   "cell_type": "code",
   "execution_count": null,
   "metadata": {
    "_cell_guid": "b2d767bc-ab58-49e2-8f0c-682504eda6ec",
    "_uuid": "368456f2-17c7-4657-a2ee-ca08fab0cde6",
    "collapsed": false,
    "execution": {
     "iopub.execute_input": "2025-04-24T14:24:13.899477Z",
     "iopub.status.busy": "2025-04-24T14:24:13.899195Z",
     "iopub.status.idle": "2025-04-24T14:24:13.903650Z",
     "shell.execute_reply": "2025-04-24T14:24:13.902981Z",
     "shell.execute_reply.started": "2025-04-24T14:24:13.899454Z"
    },
    "jupyter": {
     "outputs_hidden": false
    },
    "trusted": true
   },
   "outputs": [],
   "source": [
    "print(f\"Vocabulary Size: {len(word2vec.index_to_key)}\")\n",
    "print(f\"Vector Size: {word2vec.vector_size}\")"
   ]
  },
  {
   "cell_type": "code",
   "execution_count": null,
   "metadata": {
    "_cell_guid": "bdc0f49a-4dfb-4242-a45b-867d4af7f358",
    "_uuid": "e8a62d3a-695f-4841-b87c-92a02e0f7285",
    "collapsed": false,
    "execution": {
     "iopub.execute_input": "2025-04-24T14:24:13.904593Z",
     "iopub.status.busy": "2025-04-24T14:24:13.904371Z",
     "iopub.status.idle": "2025-04-24T14:24:13.923788Z",
     "shell.execute_reply": "2025-04-24T14:24:13.923045Z",
     "shell.execute_reply.started": "2025-04-24T14:24:13.904578Z"
    },
    "jupyter": {
     "outputs_hidden": false
    },
    "trusted": true
   },
   "outputs": [],
   "source": [
    "word = \"book\"  \n",
    "vector = word2vec[word]  \n",
    "\n",
    "print(f\"Vector for '{word}':\\n{vector[:10]}...\")"
   ]
  },
  {
   "cell_type": "code",
   "execution_count": null,
   "metadata": {
    "_cell_guid": "7ee1bcb0-0061-4528-83fd-d4069ee8cd5d",
    "_uuid": "ff8300b0-a631-4e82-a6cf-0ae36366e2fa",
    "collapsed": false,
    "execution": {
     "iopub.execute_input": "2025-04-24T14:24:13.925345Z",
     "iopub.status.busy": "2025-04-24T14:24:13.925115Z",
     "iopub.status.idle": "2025-04-24T14:24:15.947506Z",
     "shell.execute_reply": "2025-04-24T14:24:15.946651Z",
     "shell.execute_reply.started": "2025-04-24T14:24:13.925321Z"
    },
    "jupyter": {
     "outputs_hidden": false
    },
    "trusted": true
   },
   "outputs": [],
   "source": [
    "similar_words = word2vec.most_similar(\"book\", topn=5)  \n",
    "print(\"Most similar words to 'book':\")\n",
    "for word, similarity in similar_words:\n",
    "    print(f\"{word}: {similarity:.4f}\")"
   ]
  },
  {
   "cell_type": "code",
   "execution_count": null,
   "metadata": {
    "_cell_guid": "0c5231e7-5a3d-44d2-81a1-882b189a4b94",
    "_uuid": "d35779ef-25a1-4cc0-a72b-01c9f8e89ac5",
    "collapsed": false,
    "execution": {
     "iopub.execute_input": "2025-04-24T14:24:15.948906Z",
     "iopub.status.busy": "2025-04-24T14:24:15.948656Z",
     "iopub.status.idle": "2025-04-24T14:24:15.953753Z",
     "shell.execute_reply": "2025-04-24T14:24:15.953113Z",
     "shell.execute_reply.started": "2025-04-24T14:24:15.948883Z"
    },
    "jupyter": {
     "outputs_hidden": false
    },
    "trusted": true
   },
   "outputs": [],
   "source": [
    "word1 = \"woman\"  \n",
    "word2 = \"man\"  \n",
    "similarity = word2vec.similarity(word1, word2)\n",
    "\n",
    "print(f\"Similarity between '{word1}' and '{word2}': {similarity:.4f}\")"
   ]
  },
  {
   "cell_type": "markdown",
   "metadata": {
    "_cell_guid": "45c86367-3785-466e-b538-757cccaf375b",
    "_uuid": "d2dff67f-c9db-4b08-a170-8c2e80584286",
    "collapsed": false,
    "jupyter": {
     "outputs_hidden": false
    },
    "trusted": true
   },
   "source": [
    "Find a word that fits the analogy:\n",
    "* \"king\" (King) - \"Man\" (Man) + \"Woamn\" (Woman) ≈ ???\n",
    "* (i.e., What is to \"Woman\" as \"King\" is to \"Man\"?)"
   ]
  },
  {
   "cell_type": "code",
   "execution_count": null,
   "metadata": {
    "_cell_guid": "7466c410-be5c-4523-849c-6f977deb712b",
    "_uuid": "edaf4b62-6549-472a-b5a7-632dc5e2bc8f",
    "collapsed": false,
    "execution": {
     "iopub.execute_input": "2025-04-24T14:24:15.955304Z",
     "iopub.status.busy": "2025-04-24T14:24:15.955090Z",
     "iopub.status.idle": "2025-04-24T14:24:16.201309Z",
     "shell.execute_reply": "2025-04-24T14:24:16.200541Z",
     "shell.execute_reply.started": "2025-04-24T14:24:15.955283Z"
    },
    "jupyter": {
     "outputs_hidden": false
    },
    "trusted": true
   },
   "outputs": [],
   "source": [
    "analogy_result = word2vec.most_similar(positive=[\"woman\",\"king\"], negative=[\"man\"], topn=1)\n",
    "print(f\"Analogy result (King - Man + Woman): {analogy_result[0]}\")"
   ]
  },
  {
   "cell_type": "code",
   "execution_count": null,
   "metadata": {
    "_cell_guid": "a350dfc3-345e-440e-a5b4-202d022dddf3",
    "_uuid": "c75e39b1-d418-4841-ac9e-16ce369c550a",
    "collapsed": false,
    "execution": {
     "iopub.execute_input": "2025-04-24T14:24:16.202401Z",
     "iopub.status.busy": "2025-04-24T14:24:16.202146Z",
     "iopub.status.idle": "2025-04-24T14:24:16.412648Z",
     "shell.execute_reply": "2025-04-24T14:24:16.412025Z",
     "shell.execute_reply.started": "2025-04-24T14:24:16.202378Z"
    },
    "jupyter": {
     "outputs_hidden": false
    },
    "trusted": true
   },
   "outputs": [],
   "source": [
    "king_vector = word2vec['king']  \n",
    "man_vector = word2vec['man']  \n",
    "woman_vector = word2vec['woman']  \n",
    "\n",
    "# Perform the word analogy: King - Man + Woman\n",
    "result_vector = (king_vector - man_vector ) + woman_vector\n",
    "\n",
    "\n",
    "result = word2vec.similar_by_vector(result_vector, topn=1)\n",
    "\n",
    "# Output the result\n",
    "print(f\"Resulting word for 'woman + man - king' : {result[0]}\")"
   ]
  },
  {
   "cell_type": "code",
   "execution_count": null,
   "metadata": {
    "_cell_guid": "f70f7de8-aa7e-4f8a-b0fb-cc0eccdbe5f7",
    "_uuid": "3ebe9a05-1d20-4153-85f5-d90347ef3e38",
    "collapsed": false,
    "execution": {
     "iopub.execute_input": "2025-04-24T14:24:16.413587Z",
     "iopub.status.busy": "2025-04-24T14:24:16.413341Z",
     "iopub.status.idle": "2025-04-24T14:24:16.639432Z",
     "shell.execute_reply": "2025-04-24T14:24:16.638769Z",
     "shell.execute_reply.started": "2025-04-24T14:24:16.413569Z"
    },
    "jupyter": {
     "outputs_hidden": false
    },
    "trusted": true
   },
   "outputs": [],
   "source": [
    "analogy_result = word2vec.most_similar(positive=[\"woman\" , \"father\"], negative=[\"man\"], topn=1)\n",
    "print(f\"Analogy result : {analogy_result[0]}\")"
   ]
  },
  {
   "cell_type": "code",
   "execution_count": null,
   "metadata": {
    "_cell_guid": "8fdc9c75-41bc-4a7e-a6e9-227101d95510",
    "_uuid": "bdd3ee1a-d422-4b6d-aa58-2d534165876c",
    "collapsed": false,
    "execution": {
     "iopub.execute_input": "2025-04-24T14:24:16.640322Z",
     "iopub.status.busy": "2025-04-24T14:24:16.640113Z",
     "iopub.status.idle": "2025-04-24T14:24:16.645078Z",
     "shell.execute_reply": "2025-04-24T14:24:16.644333Z",
     "shell.execute_reply.started": "2025-04-24T14:24:16.640305Z"
    },
    "jupyter": {
     "outputs_hidden": false
    },
    "trusted": true
   },
   "outputs": [],
   "source": [
    "word = \"AI\"  \n",
    "if word in word2vec:\n",
    "    print(f\"'{word}' exists in vocabulary.\")\n",
    "else:\n",
    "    print(f\"'{word}' NOT found in vocabulary.\")"
   ]
  },
  {
   "cell_type": "code",
   "execution_count": null,
   "metadata": {
    "_cell_guid": "a136e6d1-e7a3-43d2-8409-73f7f14ed16e",
    "_kg_hide-input": true,
    "_uuid": "e947bca8-3713-4e68-a374-f66d2b4a3108",
    "collapsed": false,
    "execution": {
     "iopub.execute_input": "2025-04-24T14:34:55.730903Z",
     "iopub.status.busy": "2025-04-24T14:34:55.730614Z",
     "iopub.status.idle": "2025-04-24T14:35:50.618978Z",
     "shell.execute_reply": "2025-04-24T14:35:50.618160Z",
     "shell.execute_reply.started": "2025-04-24T14:34:55.730883Z"
    },
    "jupyter": {
     "outputs_hidden": false
    },
    "trusted": true
   },
   "outputs": [],
   "source": [
    "from tensorflow.keras.preprocessing.text import Tokenizer\n",
    "from tensorflow.keras.preprocessing.sequence import pad_sequences\n",
    "\n",
    "MAX_NUM_WORDS=50000\n",
    "tokenizer = Tokenizer(num_words=MAX_NUM_WORDS)\n",
    "tokenizer.fit_on_texts(df_en[\"text\"])\n",
    "sequences = tokenizer.texts_to_sequences(df_en[\"text\"])\n",
    "word_index = tokenizer.word_index\n",
    "\n",
    "X = pad_sequences(sequences, maxlen=300)"
   ]
  },
  {
   "cell_type": "code",
   "execution_count": null,
   "metadata": {
    "_cell_guid": "5ee8e031-4292-4882-9418-4a90d3029cee",
    "_uuid": "7365fe63-15c6-4b9c-9cf0-d352e28c9a97",
    "collapsed": false,
    "execution": {
     "iopub.execute_input": "2025-04-24T14:35:50.620686Z",
     "iopub.status.busy": "2025-04-24T14:35:50.620401Z",
     "iopub.status.idle": "2025-04-24T14:35:50.625285Z",
     "shell.execute_reply": "2025-04-24T14:35:50.624682Z",
     "shell.execute_reply.started": "2025-04-24T14:35:50.620662Z"
    },
    "jupyter": {
     "outputs_hidden": false
    },
    "trusted": true
   },
   "outputs": [],
   "source": [
    "vocab_size = len(word_index) + 1\n",
    "vocab_size"
   ]
  },
  {
   "cell_type": "code",
   "execution_count": null,
   "metadata": {
    "_cell_guid": "95dcaf99-93b8-457b-a102-ba80f9031970",
    "_uuid": "8c8109e6-abb0-4df3-8ae8-f63d1748c5c0",
    "collapsed": false,
    "execution": {
     "iopub.execute_input": "2025-04-24T14:35:50.626104Z",
     "iopub.status.busy": "2025-04-24T14:35:50.625918Z",
     "iopub.status.idle": "2025-04-24T14:35:51.296787Z",
     "shell.execute_reply": "2025-04-24T14:35:51.296238Z",
     "shell.execute_reply.started": "2025-04-24T14:35:50.626089Z"
    },
    "jupyter": {
     "outputs_hidden": false
    },
    "trusted": true
   },
   "outputs": [],
   "source": [
    "embedding_dim = word2vec.vector_size\n",
    "\n",
    "embedding_matrix = np.zeros((vocab_size, embedding_dim))\n",
    "for word, i in word_index.items():\n",
    "    if word in word2vec:\n",
    "        embedding_matrix[i] = word2vec[word]\n",
    "\n",
    "\n",
    "y = df_en['label'].values"
   ]
  },
  {
   "cell_type": "code",
   "execution_count": null,
   "metadata": {},
   "outputs": [],
   "source": [
    "X_train, X_test, y_train, y_test = train_test_split(\n",
    "    X, y, test_size=0.25, random_state=42\n",
    ")"
   ]
  },
  {
   "cell_type": "markdown",
   "metadata": {},
   "source": [
    "> ## Train LSTM Model"
   ]
  },
  {
   "cell_type": "code",
   "execution_count": null,
   "metadata": {
    "_cell_guid": "39d477ac-3d67-4079-bd8b-099c41ffee87",
    "_uuid": "6f343647-4b2f-4040-908e-b01f0c0c36c2",
    "collapsed": false,
    "execution": {
     "iopub.execute_input": "2025-04-24T14:36:15.936335Z",
     "iopub.status.busy": "2025-04-24T14:36:15.935631Z",
     "iopub.status.idle": "2025-04-24T14:36:16.910736Z",
     "shell.execute_reply": "2025-04-24T14:36:16.910204Z",
     "shell.execute_reply.started": "2025-04-24T14:36:15.936313Z"
    },
    "jupyter": {
     "outputs_hidden": false
    },
    "trusted": true
   },
   "outputs": [],
   "source": [
    "model = Sequential([\n",
    "    Embedding(\n",
    "        input_dim=vocab_size,\n",
    "        output_dim=embedding_dim,\n",
    "        weights=[embedding_matrix],\n",
    "        input_length=300,\n",
    "        trainable=False  \n",
    "    ),\n",
    "\n",
    "    Bidirectional(LSTM(256, return_sequences=True)), \n",
    "    Dropout(0.4),\n",
    "    BatchNormalization(),\n",
    "    LSTM(128),  \n",
    "    Dropout(0.4),\n",
    "    Dense(64, activation='relu'), \n",
    "    Dropout(0.4),\n",
    "    Dense(1, activation='sigmoid')\n",
    "])"
   ]
  },
  {
   "cell_type": "code",
   "execution_count": null,
   "metadata": {
    "_cell_guid": "d73bebed-b400-4f9d-a9f3-6877275f4c27",
    "_uuid": "4e07d24d-b222-4ccd-aa9f-c30be0a519f6",
    "collapsed": false,
    "execution": {
     "iopub.execute_input": "2025-04-24T14:36:18.225932Z",
     "iopub.status.busy": "2025-04-24T14:36:18.225374Z",
     "iopub.status.idle": "2025-04-24T14:36:18.237168Z",
     "shell.execute_reply": "2025-04-24T14:36:18.236512Z",
     "shell.execute_reply.started": "2025-04-24T14:36:18.225910Z"
    },
    "jupyter": {
     "outputs_hidden": false
    },
    "trusted": true
   },
   "outputs": [],
   "source": [
    "model.compile(\n",
    "    optimizer='adam',\n",
    "    loss='binary_crossentropy',\n",
    "    metrics=['accuracy', \n",
    "             tf.keras.metrics.Precision(name='precision'),\n",
    "             tf.keras.metrics.Recall(name='recall')]\n",
    ")"
   ]
  },
  {
   "cell_type": "code",
   "execution_count": null,
   "metadata": {
    "_cell_guid": "ae21c095-d57c-4c13-90bb-9bc72f25bb27",
    "_uuid": "0efced57-bcf3-452a-a48e-c7e679bde31a",
    "collapsed": false,
    "execution": {
     "iopub.execute_input": "2025-04-24T14:36:19.672233Z",
     "iopub.status.busy": "2025-04-24T14:36:19.671942Z",
     "iopub.status.idle": "2025-04-24T14:36:19.687071Z",
     "shell.execute_reply": "2025-04-24T14:36:19.686503Z",
     "shell.execute_reply.started": "2025-04-24T14:36:19.672212Z"
    },
    "jupyter": {
     "outputs_hidden": false
    },
    "trusted": true
   },
   "outputs": [],
   "source": [
    "model.summary()"
   ]
  },
  {
   "cell_type": "code",
   "execution_count": null,
   "metadata": {
    "_cell_guid": "24e0339a-e8e3-4be4-bbfb-4ac9426d0733",
    "_uuid": "50b575f4-a2da-4630-9917-2eac36b0c3df",
    "collapsed": false,
    "execution": {
     "iopub.execute_input": "2025-04-24T14:40:50.075873Z",
     "iopub.status.busy": "2025-04-24T14:40:50.075231Z",
     "iopub.status.idle": "2025-04-24T14:49:17.206129Z",
     "shell.execute_reply": "2025-04-24T14:49:17.205368Z",
     "shell.execute_reply.started": "2025-04-24T14:40:50.075852Z"
    },
    "jupyter": {
     "outputs_hidden": false
    },
    "trusted": true
   },
   "outputs": [],
   "source": [
    "from tensorflow.keras.callbacks import EarlyStopping, ModelCheckpoint, ReduceLROnPlateau, TensorBoard\n",
    "\n",
    "early_stopping = EarlyStopping(monitor='val_loss',  \n",
    "                               patience=3,  \n",
    "                               restore_best_weights=True)  \n",
    "\n",
    "\n",
    "\n",
    "reduce_lr = ReduceLROnPlateau(monitor='val_loss',  factor=0.2,  patience=2,   min_lr=1e-6,    verbose=1)\n",
    "\n",
    "\n",
    "history = model.fit(\n",
    "    X_train, y_train,\n",
    "    epochs=10,                         \n",
    "    batch_size=128,                     \n",
    "    validation_split=0.2,              \n",
    "    verbose=1,\n",
    "    callbacks=[early_stopping,  \n",
    "               reduce_lr\n",
    "               ]  \n",
    ")"
   ]
  },
  {
   "cell_type": "code",
   "execution_count": null,
   "metadata": {
    "_cell_guid": "6a5d8a66-ed42-4146-ac6a-efb501c53b67",
    "_uuid": "cc21f9de-daa8-4ed0-a3ef-8883a219aabe",
    "collapsed": false,
    "jupyter": {
     "outputs_hidden": false
    },
    "trusted": true
   },
   "outputs": [],
   "source": [
    "model.save(\"./Models/English/lstm.h5\") \n",
    "print(\"✅ Model saved as my_model.h5\")"
   ]
  },
  {
   "cell_type": "code",
   "execution_count": null,
   "metadata": {
    "_cell_guid": "a0319564-dddc-4e2a-83f0-17f355ac789d",
    "_uuid": "88882e9e-c71b-4e3a-ad07-8828a2fef51e",
    "collapsed": false,
    "execution": {
     "iopub.execute_input": "2025-04-24T14:51:42.568959Z",
     "iopub.status.busy": "2025-04-24T14:51:42.568371Z",
     "iopub.status.idle": "2025-04-24T14:52:14.475276Z",
     "shell.execute_reply": "2025-04-24T14:52:14.474476Z",
     "shell.execute_reply.started": "2025-04-24T14:51:42.568937Z"
    },
    "jupyter": {
     "outputs_hidden": false
    },
    "trusted": true
   },
   "outputs": [],
   "source": [
    "# Evaluate the model\n",
    "loss, accuracy, precision, recall = model.evaluate(X_test, y_test)\n",
    "print(f\"Test Accuracy: {accuracy*100:.2f}%\")\n",
    "print(f\"Precision: {precision:.2f}\")\n",
    "print(f\"Recall: {recall:.2f}\")\n",
    "\n",
    "# Additional metrics\n",
    "from sklearn.metrics import classification_report\n",
    "y_pred = (model.predict(X_test) > 0.5).astype(\"int32\")\n",
    "print(classification_report(y_test, y_pred))"
   ]
  },
  {
   "cell_type": "code",
   "execution_count": null,
   "metadata": {
    "_cell_guid": "db05ae42-52b6-4c8f-b79d-1828b56c6371",
    "_uuid": "65243b7b-2efc-47ff-b233-76644322b55f",
    "collapsed": false,
    "execution": {
     "iopub.execute_input": "2025-04-24T14:52:18.074324Z",
     "iopub.status.busy": "2025-04-24T14:52:18.073624Z",
     "iopub.status.idle": "2025-04-24T14:52:18.381858Z",
     "shell.execute_reply": "2025-04-24T14:52:18.381134Z",
     "shell.execute_reply.started": "2025-04-24T14:52:18.074296Z"
    },
    "jupyter": {
     "outputs_hidden": false
    },
    "trusted": true
   },
   "outputs": [],
   "source": [
    "# Accuracy\n",
    "plt.plot(history.history['accuracy'], label='Train Accuracy')\n",
    "plt.plot(history.history['val_accuracy'], label='Validation Accuracy')\n",
    "plt.title('Model Accuracy')\n",
    "plt.ylabel('Accuracy')\n",
    "plt.xlabel('Epoch')\n",
    "plt.legend()\n",
    "plt.grid()\n",
    "plt.show()\n",
    "\n",
    "# Loss\n",
    "plt.plot(history.history['loss'], label='Train Loss')\n",
    "plt.plot(history.history['val_loss'], label='Validation Loss')\n",
    "plt.title('Model Loss')\n",
    "plt.ylabel('Loss')\n",
    "plt.xlabel('Epoch')\n",
    "plt.legend()\n",
    "plt.grid()\n",
    "plt.show()"
   ]
  },
  {
   "cell_type": "code",
   "execution_count": null,
   "metadata": {
    "_cell_guid": "a799729c-3d5b-42bd-badd-3889dd9254d9",
    "_uuid": "3ce1d7c7-ec80-49f4-abc1-c0c4520afe90",
    "collapsed": false,
    "execution": {
     "iopub.execute_input": "2025-04-24T14:52:25.703562Z",
     "iopub.status.busy": "2025-04-24T14:52:25.702988Z",
     "iopub.status.idle": "2025-04-24T14:52:40.468369Z",
     "shell.execute_reply": "2025-04-24T14:52:40.467575Z",
     "shell.execute_reply.started": "2025-04-24T14:52:25.703540Z"
    },
    "jupyter": {
     "outputs_hidden": false
    },
    "trusted": true
   },
   "outputs": [],
   "source": [
    "from sklearn.metrics import roc_auc_score, roc_curve\n",
    "import matplotlib.pyplot as plt\n",
    "\n",
    "\n",
    "y_pred_proba = model.predict(X_test)\n",
    "\n",
    "auc_score = roc_auc_score(y_test, y_pred_proba)\n",
    "print(f\"AUC Score: {auc_score:.4f}\")"
   ]
  },
  {
   "cell_type": "code",
   "execution_count": null,
   "metadata": {
    "_cell_guid": "e0059814-9f5f-4654-9a54-d9255bfdf87d",
    "_uuid": "5dbefe69-5b74-4ff4-b662-85e2b20ad3ec",
    "collapsed": false,
    "execution": {
     "iopub.execute_input": "2025-04-24T14:52:51.313333Z",
     "iopub.status.busy": "2025-04-24T14:52:51.312724Z",
     "iopub.status.idle": "2025-04-24T14:52:51.468748Z",
     "shell.execute_reply": "2025-04-24T14:52:51.468045Z",
     "shell.execute_reply.started": "2025-04-24T14:52:51.313311Z"
    },
    "jupyter": {
     "outputs_hidden": false
    },
    "trusted": true
   },
   "outputs": [],
   "source": [
    "fpr, tpr, thresholds = roc_curve(y_test, y_pred_proba)\n",
    "plt.figure(figsize=(8, 6))\n",
    "plt.plot(fpr, tpr, label=f\"AUC = {auc_score:.4f}\")\n",
    "plt.plot([0, 1], [0, 1], 'k--')  # diagonal\n",
    "plt.xlabel(\"False Positive Rate\")\n",
    "plt.ylabel(\"True Positive Rate\")\n",
    "plt.title(\"ROC Curve\")\n",
    "plt.legend(loc=\"lower right\")\n",
    "plt.grid()\n",
    "plt.show()"
   ]
  },
  {
   "cell_type": "code",
   "execution_count": null,
   "metadata": {
    "_cell_guid": "86d0d356-fa59-4bd5-a910-53aa0ddf9d7e",
    "_uuid": "41fc3a59-262b-464f-bc15-6a87ffc55888",
    "collapsed": false,
    "execution": {
     "iopub.execute_input": "2025-04-24T14:52:57.450397Z",
     "iopub.status.busy": "2025-04-24T14:52:57.449863Z",
     "iopub.status.idle": "2025-04-24T14:52:57.621519Z",
     "shell.execute_reply": "2025-04-24T14:52:57.620937Z",
     "shell.execute_reply.started": "2025-04-24T14:52:57.450374Z"
    },
    "jupyter": {
     "outputs_hidden": false
    },
    "trusted": true
   },
   "outputs": [],
   "source": [
    "def predict_fake_news(text):\n",
    "    sequence = tokenizer.texts_to_sequences([text])\n",
    "    padded = pad_sequences(sequence, maxlen=300)  \n",
    "\n",
    "    # Predict\n",
    "    prediction = model.predict(padded)[0][0]\n",
    "    label = \"Fake\" if prediction > 0.5 else \"Real\"\n",
    "\n",
    "    print(f\"Text: {text}\")\n",
    "    print(f\"Prediction: {prediction:.4f} → {label}\")\n",
    "\n",
    "predict_fake_news(\"Trump Said Some INSANELY Racist Stuff Inside The Oval Office, And Witnesses Back It Up\")\n",
    "predict_fake_news(\"Alabama to certify Democrat Jones winner of Senate election\")"
   ]
  },
  {
   "cell_type": "markdown",
   "metadata": {},
   "source": [
    "> ## Train XLM Roberta Model"
   ]
  },
  {
   "cell_type": "code",
   "execution_count": null,
   "metadata": {
    "_cell_guid": "c1be3d06-02f0-46ac-abe1-18876586d6f2",
    "_uuid": "a286782a-a033-4197-b857-6f8b2ec0387d",
    "collapsed": false,
    "execution": {
     "iopub.execute_input": "2025-04-24T15:33:03.724873Z",
     "iopub.status.busy": "2025-04-24T15:33:03.724574Z",
     "iopub.status.idle": "2025-04-24T15:35:33.281076Z",
     "shell.execute_reply": "2025-04-24T15:35:33.280529Z",
     "shell.execute_reply.started": "2025-04-24T15:33:03.724853Z"
    },
    "jupyter": {
     "outputs_hidden": false
    },
    "trusted": true
   },
   "outputs": [],
   "source": [
    "\n",
    "\n",
    "train_df, temp_df = train_test_split(df_en, test_size=0.2, random_state=42)\n",
    "val_df, test_df = train_test_split(temp_df, test_size=0.5, random_state=42)\n",
    "\n",
    "train_dataset = Dataset.from_pandas(train_df)\n",
    "val_dataset = Dataset.from_pandas(val_df)\n",
    "test_dataset = Dataset.from_pandas(test_df)\n",
    "\n",
    "# Load tokenizer and model\n",
    "model_name = \"xlm-roberta-base\"\n",
    "tokenizer = XLMRobertaTokenizer.from_pretrained(model_name)\n",
    "model = XLMRobertaForSequenceClassification.from_pretrained(model_name, num_labels=len(df_en['label'].unique()))"
   ]
  },
  {
   "cell_type": "code",
   "execution_count": null,
   "metadata": {
    "_cell_guid": "196c3e8b-a58e-4fea-8ad9-e14f217352e5",
    "_uuid": "675d3029-ece0-4051-8b7b-17143f71215d",
    "collapsed": false,
    "execution": {
     "iopub.execute_input": "2025-04-24T17:12:58.959295Z",
     "iopub.status.busy": "2025-04-24T17:12:58.958669Z",
     "iopub.status.idle": "2025-04-24T17:15:05.766823Z",
     "shell.execute_reply": "2025-04-24T17:15:05.766264Z",
     "shell.execute_reply.started": "2025-04-24T17:12:58.959261Z"
    },
    "jupyter": {
     "outputs_hidden": false
    },
    "trusted": true
   },
   "outputs": [],
   "source": [
    "def tokenize_function(examples):\n",
    "    return tokenizer(examples['Full Text'], padding=\"max_length\", truncation=True, max_length=300)\n",
    "train_dataset = train_dataset.map(tokenize_function, batched=True)\n",
    "val_dataset = val_dataset.map(tokenize_function, batched=True)\n",
    "test_dataset = test_dataset.map(tokenize_function, batched=True)\n",
    "\n",
    "train_dataset.set_format(type='torch', columns=['input_ids', 'attention_mask', 'label'])\n",
    "val_dataset.set_format(type='torch', columns=['input_ids', 'attention_mask', 'label'])\n",
    "test_dataset.set_format(type='torch', columns=['input_ids', 'attention_mask', 'label'])\n",
    "\n",
    "\n",
    "def compute_metrics(eval_pred):\n",
    "    logits, labels = eval_pred\n",
    "    predictions = torch.argmax(torch.tensor(logits), dim=-1)\n",
    "    accuracy = accuracy_score(labels, predictions)\n",
    "    return {'accuracy': accuracy}"
   ]
  },
  {
   "cell_type": "code",
   "execution_count": null,
   "metadata": {
    "_cell_guid": "f0d7939c-31f9-4bc6-afba-2b64f3c214dd",
    "_uuid": "47c6ff6d-2c0d-4d56-aefc-0e35566d2e98",
    "collapsed": false,
    "execution": {
     "iopub.execute_input": "2025-04-24T17:16:44.320772Z",
     "iopub.status.busy": "2025-04-24T17:16:44.320482Z",
     "iopub.status.idle": "2025-04-24T17:16:44.328961Z",
     "shell.execute_reply": "2025-04-24T17:16:44.328374Z",
     "shell.execute_reply.started": "2025-04-24T17:16:44.320749Z"
    },
    "jupyter": {
     "outputs_hidden": false
    },
    "trusted": true
   },
   "outputs": [],
   "source": [
    "import torch\n",
    "print(f\"CUDA available: {torch.cuda.is_available()}\")  \n",
    "print(f\"GPU count: {torch.cuda.device_count()}\")       \n",
    "print(f\"Current device: {torch.cuda.current_device()}\")  \n",
    "print(f\"Device name: {torch.cuda.get_device_name(0)}\")"
   ]
  },
  {
   "cell_type": "code",
   "execution_count": null,
   "metadata": {
    "_cell_guid": "345fafab-1aa8-462d-915f-c0db31547b88",
    "_uuid": "28c7720a-bc32-4f49-b7cb-7d46b71abf19",
    "collapsed": false,
    "execution": {
     "iopub.execute_input": "2025-04-24T17:16:53.874941Z",
     "iopub.status.busy": "2025-04-24T17:16:53.874373Z",
     "iopub.status.idle": "2025-04-24T17:16:53.881841Z",
     "shell.execute_reply": "2025-04-24T17:16:53.881311Z",
     "shell.execute_reply.started": "2025-04-24T17:16:53.874915Z"
    },
    "jupyter": {
     "outputs_hidden": false
    },
    "trusted": true
   },
   "outputs": [],
   "source": [
    "import wandb\n",
    "wandb.login(key=\"your key here\")"
   ]
  },
  {
   "cell_type": "code",
   "execution_count": null,
   "metadata": {
    "_cell_guid": "cb17df21-7c80-4db1-bde4-079f2138a5f7",
    "_uuid": "a6a3a989-c3f2-4c9e-bc28-31f84cd7bf18",
    "collapsed": false,
    "execution": {
     "iopub.execute_input": "2025-04-24T17:03:28.721856Z",
     "iopub.status.busy": "2025-04-24T17:03:28.721573Z",
     "iopub.status.idle": "2025-04-24T17:03:36.702831Z",
     "shell.execute_reply": "2025-04-24T17:03:36.702251Z",
     "shell.execute_reply.started": "2025-04-24T17:03:28.721836Z"
    },
    "jupyter": {
     "outputs_hidden": false
    },
    "trusted": true
   },
   "outputs": [],
   "source": [
    "wandb.init(project=\"FND_project_english\")"
   ]
  },
  {
   "cell_type": "code",
   "execution_count": null,
   "metadata": {
    "_cell_guid": "fc69c055-4c69-402c-871f-b1652c4b8622",
    "_uuid": "1c5c23a6-9f4c-413b-9277-d79457f84fed",
    "collapsed": false,
    "execution": {
     "iopub.execute_input": "2025-04-24T17:17:17.976281Z",
     "iopub.status.busy": "2025-04-24T17:17:17.975704Z",
     "iopub.status.idle": "2025-04-24T17:17:18.013596Z",
     "shell.execute_reply": "2025-04-24T17:17:18.012866Z",
     "shell.execute_reply.started": "2025-04-24T17:17:17.976259Z"
    },
    "jupyter": {
     "outputs_hidden": false
    },
    "trusted": true
   },
   "outputs": [],
   "source": [
    "\n",
    "training_args = TrainingArguments(\n",
    "    output_dir=\"results\",\n",
    "    eval_strategy=\"epoch\",  \n",
    "    learning_rate=2e-5,\n",
    "    per_device_train_batch_size=8,\n",
    "    per_device_eval_batch_size=8,\n",
    "    gradient_accumulation_steps=2,\n",
    "\n",
    "    num_train_epochs=3,\n",
    "    weight_decay=0.01,\n",
    "    save_strategy=\"epoch\",\n",
    "    load_best_model_at_end=True,\n",
    "    logging_dir=\"./logs\",              \n",
    "    logging_strategy=\"steps\",      \n",
    "    disable_tqdm=False,\n",
    "    logging_steps=1,\n",
    "    report_to=\"all\"\n",
    "\n",
    ")\n",
    "trainer = Trainer(\n",
    "    model=model,\n",
    "    args=training_args,\n",
    "    train_dataset=train_dataset,\n",
    "    eval_dataset=val_dataset,\n",
    "    compute_metrics=compute_metrics,\n",
    ")"
   ]
  },
  {
   "cell_type": "code",
   "execution_count": null,
   "metadata": {
    "_cell_guid": "6e6a05dc-54cc-4167-b237-e749015d8a47",
    "_uuid": "af3895a0-d799-4c1c-a645-0de5b895e69c",
    "collapsed": false,
    "execution": {
     "iopub.execute_input": "2025-04-24T17:17:20.172757Z",
     "iopub.status.busy": "2025-04-24T17:17:20.172003Z",
     "iopub.status.idle": "2025-04-24T18:23:19.079716Z",
     "shell.execute_reply": "2025-04-24T18:23:19.078759Z",
     "shell.execute_reply.started": "2025-04-24T17:17:20.172733Z"
    },
    "jupyter": {
     "outputs_hidden": false
    },
    "trusted": true
   },
   "outputs": [],
   "source": [
    "trainer.train()"
   ]
  },
  {
   "cell_type": "code",
   "execution_count": null,
   "metadata": {
    "_cell_guid": "e824dc27-742c-45b8-a390-6883ccc6021a",
    "_uuid": "ec7e17ee-6872-46e8-839e-d07999c1cd84",
    "collapsed": false,
    "execution": {
     "iopub.execute_input": "2025-04-24T18:23:23.206781Z",
     "iopub.status.busy": "2025-04-24T18:23:23.206486Z",
     "iopub.status.idle": "2025-04-24T18:24:47.802112Z",
     "shell.execute_reply": "2025-04-24T18:24:47.801384Z",
     "shell.execute_reply.started": "2025-04-24T18:23:23.206761Z"
    },
    "jupyter": {
     "outputs_hidden": false
    },
    "trusted": true
   },
   "outputs": [],
   "source": [
    "# Evaluate the model\n",
    "test_results = trainer.evaluate(test_dataset)\n",
    "print(test_results)\n",
    "\n",
    "predictions, labels, _ = trainer.predict(test_dataset)\n",
    "preds = torch.argmax(torch.tensor(predictions), dim=1)\n",
    "print(classification_report(labels, preds, target_names=[str(i) for i in range(len(df_en['label'].unique()))]))"
   ]
  },
  {
   "cell_type": "code",
   "execution_count": null,
   "metadata": {
    "_cell_guid": "2909069d-767d-4932-8547-d8d19b874d40",
    "_uuid": "676c6e22-bf2e-429d-b8a2-2281ee32c1e0",
    "collapsed": false,
    "jupyter": {
     "outputs_hidden": false
    },
    "trusted": true
   },
   "outputs": [],
   "source": [
    "model.save_pretrained(\"./Models/English/prerainmodel\")\n",
    "\n",
    "tokenizer.save_pretrained(\"./Models/English/prerainmodel\")\n",
    "\n",
    "print(\"✅ Model and tokenizer saved.\")"
   ]
  }
 ],
 "metadata": {
  "kaggle": {
   "accelerator": "none",
   "dataSources": [
    {
     "datasetId": 1595713,
     "sourceId": 2624724,
     "sourceType": "datasetVersion"
    },
    {
     "datasetId": 2093157,
     "sourceId": 6641062,
     "sourceType": "datasetVersion"
    },
    {
     "datasetId": 4180521,
     "sourceId": 7222412,
     "sourceType": "datasetVersion"
    },
    {
     "datasetId": 7144367,
     "sourceId": 11452488,
     "sourceType": "datasetVersion"
    }
   ],
   "dockerImageVersionId": 31011,
   "isGpuEnabled": false,
   "isInternetEnabled": true,
   "language": "python",
   "sourceType": "notebook"
  },
  "kernelspec": {
   "display_name": "Python 3",
   "language": "python",
   "name": "python3"
  },
  "language_info": {
   "codemirror_mode": {
    "name": "ipython",
    "version": 3
   },
   "file_extension": ".py",
   "mimetype": "text/x-python",
   "name": "python",
   "nbconvert_exporter": "python",
   "pygments_lexer": "ipython3",
   "version": "3.13.2"
  }
 },
 "nbformat": 4,
 "nbformat_minor": 4
}
