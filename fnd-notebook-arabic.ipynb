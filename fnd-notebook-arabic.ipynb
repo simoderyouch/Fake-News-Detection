{
 "cells": [
  {
   "cell_type": "markdown",
   "metadata": {
    "_cell_guid": "5f798a6b-23b4-4055-8a9f-575d251b195b",
    "_uuid": "3e108988-1a58-4b9c-9202-04cf040164e4",
    "collapsed": false,
    "jupyter": {
     "outputs_hidden": false
    },
    "trusted": true
   },
   "source": [
    "# Fake News Detection Arabic\n"
   ]
  },
  {
   "cell_type": "markdown",
   "metadata": {},
   "source": [
    "> ## Install Requirements"
   ]
  },
  {
   "cell_type": "code",
   "execution_count": 10,
   "metadata": {
    "_cell_guid": "5d387586-7762-4b32-8be8-c10cf988ab3f",
    "_uuid": "242e88c0-1a49-4c75-ad95-9d4ec1ca3886",
    "collapsed": false,
    "execution": {
     "iopub.execute_input": "2025-04-28T20:52:57.172564Z",
     "iopub.status.busy": "2025-04-28T20:52:57.171788Z",
     "iopub.status.idle": "2025-04-28T20:53:28.873902Z",
     "shell.execute_reply": "2025-04-28T20:53:28.873197Z",
     "shell.execute_reply.started": "2025-04-28T20:52:57.172538Z"
    },
    "jupyter": {
     "outputs_hidden": false
    },
    "trusted": true
   },
   "outputs": [
    {
     "name": "stdout",
     "output_type": "stream",
     "text": [
      "Collecting farasapy\n",
      "  Downloading farasapy-0.0.14-py3-none-any.whl.metadata (8.9 kB)\n",
      "Requirement already satisfied: requests in /usr/local/lib/python3.11/dist-packages (from farasapy) (2.32.3)\n",
      "Requirement already satisfied: tqdm in /usr/local/lib/python3.11/dist-packages (from farasapy) (4.67.1)\n",
      "Requirement already satisfied: charset-normalizer<4,>=2 in /usr/local/lib/python3.11/dist-packages (from requests->farasapy) (3.4.1)\n",
      "Requirement already satisfied: idna<4,>=2.5 in /usr/local/lib/python3.11/dist-packages (from requests->farasapy) (3.10)\n",
      "Requirement already satisfied: urllib3<3,>=1.21.1 in /usr/local/lib/python3.11/dist-packages (from requests->farasapy) (2.3.0)\n",
      "Requirement already satisfied: certifi>=2017.4.17 in /usr/local/lib/python3.11/dist-packages (from requests->farasapy) (2025.1.31)\n",
      "Downloading farasapy-0.0.14-py3-none-any.whl (11 kB)\n",
      "Installing collected packages: farasapy\n",
      "Successfully installed farasapy-0.0.14\n",
      "Requirement already satisfied: tqdm in /usr/local/lib/python3.11/dist-packages (4.67.1)\n",
      "Requirement already satisfied: gensim in /usr/local/lib/python3.11/dist-packages (4.3.3)\n",
      "Requirement already satisfied: numpy<2.0,>=1.18.5 in /usr/local/lib/python3.11/dist-packages (from gensim) (1.26.4)\n",
      "Collecting scipy<1.14.0,>=1.7.0 (from gensim)\n",
      "  Downloading scipy-1.13.1-cp311-cp311-manylinux_2_17_x86_64.manylinux2014_x86_64.whl.metadata (60 kB)\n",
      "\u001b[2K     \u001b[90m━━━━━━━━━━━━━━━━━━━━━━━━━━━━━━━━━━━━━━━━\u001b[0m \u001b[32m60.6/60.6 kB\u001b[0m \u001b[31m1.8 MB/s\u001b[0m eta \u001b[36m0:00:00\u001b[0m\n",
      "\u001b[?25hRequirement already satisfied: smart-open>=1.8.1 in /usr/local/lib/python3.11/dist-packages (from gensim) (7.1.0)\n",
      "Requirement already satisfied: mkl_fft in /usr/local/lib/python3.11/dist-packages (from numpy<2.0,>=1.18.5->gensim) (1.3.8)\n",
      "Requirement already satisfied: mkl_random in /usr/local/lib/python3.11/dist-packages (from numpy<2.0,>=1.18.5->gensim) (1.2.4)\n",
      "Requirement already satisfied: mkl_umath in /usr/local/lib/python3.11/dist-packages (from numpy<2.0,>=1.18.5->gensim) (0.1.1)\n",
      "Requirement already satisfied: mkl in /usr/local/lib/python3.11/dist-packages (from numpy<2.0,>=1.18.5->gensim) (2025.1.0)\n",
      "Requirement already satisfied: tbb4py in /usr/local/lib/python3.11/dist-packages (from numpy<2.0,>=1.18.5->gensim) (2022.1.0)\n",
      "Requirement already satisfied: mkl-service in /usr/local/lib/python3.11/dist-packages (from numpy<2.0,>=1.18.5->gensim) (2.4.1)\n",
      "Requirement already satisfied: wrapt in /usr/local/lib/python3.11/dist-packages (from smart-open>=1.8.1->gensim) (1.17.2)\n",
      "Requirement already satisfied: intel-openmp<2026,>=2024 in /usr/local/lib/python3.11/dist-packages (from mkl->numpy<2.0,>=1.18.5->gensim) (2024.2.0)\n",
      "Requirement already satisfied: tbb==2022.* in /usr/local/lib/python3.11/dist-packages (from mkl->numpy<2.0,>=1.18.5->gensim) (2022.1.0)\n",
      "Requirement already satisfied: tcmlib==1.* in /usr/local/lib/python3.11/dist-packages (from tbb==2022.*->mkl->numpy<2.0,>=1.18.5->gensim) (1.2.0)\n",
      "Requirement already satisfied: intel-cmplr-lib-rt in /usr/local/lib/python3.11/dist-packages (from mkl_umath->numpy<2.0,>=1.18.5->gensim) (2024.2.0)\n",
      "Requirement already satisfied: intel-cmplr-lib-ur==2024.2.0 in /usr/local/lib/python3.11/dist-packages (from intel-openmp<2026,>=2024->mkl->numpy<2.0,>=1.18.5->gensim) (2024.2.0)\n",
      "Downloading scipy-1.13.1-cp311-cp311-manylinux_2_17_x86_64.manylinux2014_x86_64.whl (38.6 MB)\n",
      "\u001b[2K   \u001b[90m━━━━━━━━━━━━━━━━━━━━━━━━━━━━━━━━━━━━━━━━\u001b[0m \u001b[32m38.6/38.6 MB\u001b[0m \u001b[31m45.1 MB/s\u001b[0m eta \u001b[36m0:00:00\u001b[0m:00:01\u001b[0m00:01\u001b[0m\n",
      "\u001b[?25hInstalling collected packages: scipy\n",
      "  Attempting uninstall: scipy\n",
      "    Found existing installation: scipy 1.15.2\n",
      "    Uninstalling scipy-1.15.2:\n",
      "      Successfully uninstalled scipy-1.15.2\n",
      "\u001b[31mERROR: pip's dependency resolver does not currently take into account all the packages that are installed. This behaviour is the source of the following dependency conflicts.\n",
      "tsfresh 0.21.0 requires scipy>=1.14.0; python_version >= \"3.10\", but you have scipy 1.13.1 which is incompatible.\n",
      "nilearn 0.11.1 requires scikit-learn>=1.4.0, but you have scikit-learn 1.2.2 which is incompatible.\n",
      "bigframes 1.36.0 requires rich<14,>=12.4.4, but you have rich 14.0.0 which is incompatible.\n",
      "imbalanced-learn 0.13.0 requires scikit-learn<2,>=1.3.2, but you have scikit-learn 1.2.2 which is incompatible.\n",
      "plotnine 0.14.5 requires matplotlib>=3.8.0, but you have matplotlib 3.7.5 which is incompatible.\n",
      "mlxtend 0.23.4 requires scikit-learn>=1.3.1, but you have scikit-learn 1.2.2 which is incompatible.\u001b[0m\u001b[31m\n",
      "\u001b[0mSuccessfully installed scipy-1.13.1\n",
      "Requirement already satisfied: spacy in /usr/local/lib/python3.11/dist-packages (3.7.5)\n",
      "Requirement already satisfied: spacy-legacy<3.1.0,>=3.0.11 in /usr/local/lib/python3.11/dist-packages (from spacy) (3.0.12)\n",
      "Requirement already satisfied: spacy-loggers<2.0.0,>=1.0.0 in /usr/local/lib/python3.11/dist-packages (from spacy) (1.0.5)\n",
      "Requirement already satisfied: murmurhash<1.1.0,>=0.28.0 in /usr/local/lib/python3.11/dist-packages (from spacy) (1.0.12)\n",
      "Requirement already satisfied: cymem<2.1.0,>=2.0.2 in /usr/local/lib/python3.11/dist-packages (from spacy) (2.0.11)\n",
      "Requirement already satisfied: preshed<3.1.0,>=3.0.2 in /usr/local/lib/python3.11/dist-packages (from spacy) (3.0.9)\n",
      "Requirement already satisfied: thinc<8.3.0,>=8.2.2 in /usr/local/lib/python3.11/dist-packages (from spacy) (8.2.5)\n",
      "Requirement already satisfied: wasabi<1.2.0,>=0.9.1 in /usr/local/lib/python3.11/dist-packages (from spacy) (1.1.3)\n",
      "Requirement already satisfied: srsly<3.0.0,>=2.4.3 in /usr/local/lib/python3.11/dist-packages (from spacy) (2.5.1)\n",
      "Requirement already satisfied: catalogue<2.1.0,>=2.0.6 in /usr/local/lib/python3.11/dist-packages (from spacy) (2.0.10)\n",
      "Requirement already satisfied: weasel<0.5.0,>=0.1.0 in /usr/local/lib/python3.11/dist-packages (from spacy) (0.4.1)\n",
      "Requirement already satisfied: typer<1.0.0,>=0.3.0 in /usr/local/lib/python3.11/dist-packages (from spacy) (0.15.1)\n",
      "Requirement already satisfied: tqdm<5.0.0,>=4.38.0 in /usr/local/lib/python3.11/dist-packages (from spacy) (4.67.1)\n",
      "Requirement already satisfied: requests<3.0.0,>=2.13.0 in /usr/local/lib/python3.11/dist-packages (from spacy) (2.32.3)\n",
      "Requirement already satisfied: pydantic!=1.8,!=1.8.1,<3.0.0,>=1.7.4 in /usr/local/lib/python3.11/dist-packages (from spacy) (2.11.3)\n",
      "Requirement already satisfied: jinja2 in /usr/local/lib/python3.11/dist-packages (from spacy) (3.1.6)\n",
      "Requirement already satisfied: setuptools in /usr/local/lib/python3.11/dist-packages (from spacy) (75.1.0)\n",
      "Requirement already satisfied: packaging>=20.0 in /usr/local/lib/python3.11/dist-packages (from spacy) (24.2)\n",
      "Requirement already satisfied: langcodes<4.0.0,>=3.2.0 in /usr/local/lib/python3.11/dist-packages (from spacy) (3.5.0)\n",
      "Requirement already satisfied: numpy>=1.19.0 in /usr/local/lib/python3.11/dist-packages (from spacy) (1.26.4)\n",
      "Requirement already satisfied: language-data>=1.2 in /usr/local/lib/python3.11/dist-packages (from langcodes<4.0.0,>=3.2.0->spacy) (1.3.0)\n",
      "Requirement already satisfied: mkl_fft in /usr/local/lib/python3.11/dist-packages (from numpy>=1.19.0->spacy) (1.3.8)\n",
      "Requirement already satisfied: mkl_random in /usr/local/lib/python3.11/dist-packages (from numpy>=1.19.0->spacy) (1.2.4)\n",
      "Requirement already satisfied: mkl_umath in /usr/local/lib/python3.11/dist-packages (from numpy>=1.19.0->spacy) (0.1.1)\n",
      "Requirement already satisfied: mkl in /usr/local/lib/python3.11/dist-packages (from numpy>=1.19.0->spacy) (2025.1.0)\n",
      "Requirement already satisfied: tbb4py in /usr/local/lib/python3.11/dist-packages (from numpy>=1.19.0->spacy) (2022.1.0)\n",
      "Requirement already satisfied: mkl-service in /usr/local/lib/python3.11/dist-packages (from numpy>=1.19.0->spacy) (2.4.1)\n",
      "Requirement already satisfied: annotated-types>=0.6.0 in /usr/local/lib/python3.11/dist-packages (from pydantic!=1.8,!=1.8.1,<3.0.0,>=1.7.4->spacy) (0.7.0)\n",
      "Requirement already satisfied: pydantic-core==2.33.1 in /usr/local/lib/python3.11/dist-packages (from pydantic!=1.8,!=1.8.1,<3.0.0,>=1.7.4->spacy) (2.33.1)\n",
      "Requirement already satisfied: typing-extensions>=4.12.2 in /usr/local/lib/python3.11/dist-packages (from pydantic!=1.8,!=1.8.1,<3.0.0,>=1.7.4->spacy) (4.13.1)\n",
      "Requirement already satisfied: typing-inspection>=0.4.0 in /usr/local/lib/python3.11/dist-packages (from pydantic!=1.8,!=1.8.1,<3.0.0,>=1.7.4->spacy) (0.4.0)\n",
      "Requirement already satisfied: charset-normalizer<4,>=2 in /usr/local/lib/python3.11/dist-packages (from requests<3.0.0,>=2.13.0->spacy) (3.4.1)\n",
      "Requirement already satisfied: idna<4,>=2.5 in /usr/local/lib/python3.11/dist-packages (from requests<3.0.0,>=2.13.0->spacy) (3.10)\n",
      "Requirement already satisfied: urllib3<3,>=1.21.1 in /usr/local/lib/python3.11/dist-packages (from requests<3.0.0,>=2.13.0->spacy) (2.3.0)\n",
      "Requirement already satisfied: certifi>=2017.4.17 in /usr/local/lib/python3.11/dist-packages (from requests<3.0.0,>=2.13.0->spacy) (2025.1.31)\n",
      "Requirement already satisfied: blis<0.8.0,>=0.7.8 in /usr/local/lib/python3.11/dist-packages (from thinc<8.3.0,>=8.2.2->spacy) (0.7.11)\n",
      "Requirement already satisfied: confection<1.0.0,>=0.0.1 in /usr/local/lib/python3.11/dist-packages (from thinc<8.3.0,>=8.2.2->spacy) (0.1.5)\n",
      "Requirement already satisfied: click>=8.0.0 in /usr/local/lib/python3.11/dist-packages (from typer<1.0.0,>=0.3.0->spacy) (8.1.8)\n",
      "Requirement already satisfied: shellingham>=1.3.0 in /usr/local/lib/python3.11/dist-packages (from typer<1.0.0,>=0.3.0->spacy) (1.5.4)\n",
      "Requirement already satisfied: rich>=10.11.0 in /usr/local/lib/python3.11/dist-packages (from typer<1.0.0,>=0.3.0->spacy) (14.0.0)\n",
      "Requirement already satisfied: cloudpathlib<1.0.0,>=0.7.0 in /usr/local/lib/python3.11/dist-packages (from weasel<0.5.0,>=0.1.0->spacy) (0.20.0)\n",
      "Requirement already satisfied: smart-open<8.0.0,>=5.2.1 in /usr/local/lib/python3.11/dist-packages (from weasel<0.5.0,>=0.1.0->spacy) (7.1.0)\n",
      "Requirement already satisfied: MarkupSafe>=2.0 in /usr/local/lib/python3.11/dist-packages (from jinja2->spacy) (3.0.2)\n",
      "Requirement already satisfied: marisa-trie>=1.1.0 in /usr/local/lib/python3.11/dist-packages (from language-data>=1.2->langcodes<4.0.0,>=3.2.0->spacy) (1.2.1)\n",
      "Requirement already satisfied: markdown-it-py>=2.2.0 in /usr/local/lib/python3.11/dist-packages (from rich>=10.11.0->typer<1.0.0,>=0.3.0->spacy) (3.0.0)\n",
      "Requirement already satisfied: pygments<3.0.0,>=2.13.0 in /usr/local/lib/python3.11/dist-packages (from rich>=10.11.0->typer<1.0.0,>=0.3.0->spacy) (2.19.1)\n",
      "Requirement already satisfied: wrapt in /usr/local/lib/python3.11/dist-packages (from smart-open<8.0.0,>=5.2.1->weasel<0.5.0,>=0.1.0->spacy) (1.17.2)\n",
      "Requirement already satisfied: intel-openmp<2026,>=2024 in /usr/local/lib/python3.11/dist-packages (from mkl->numpy>=1.19.0->spacy) (2024.2.0)\n",
      "Requirement already satisfied: tbb==2022.* in /usr/local/lib/python3.11/dist-packages (from mkl->numpy>=1.19.0->spacy) (2022.1.0)\n",
      "Requirement already satisfied: tcmlib==1.* in /usr/local/lib/python3.11/dist-packages (from tbb==2022.*->mkl->numpy>=1.19.0->spacy) (1.2.0)\n",
      "Requirement already satisfied: intel-cmplr-lib-rt in /usr/local/lib/python3.11/dist-packages (from mkl_umath->numpy>=1.19.0->spacy) (2024.2.0)\n",
      "Requirement already satisfied: intel-cmplr-lib-ur==2024.2.0 in /usr/local/lib/python3.11/dist-packages (from intel-openmp<2026,>=2024->mkl->numpy>=1.19.0->spacy) (2024.2.0)\n",
      "Requirement already satisfied: mdurl~=0.1 in /usr/local/lib/python3.11/dist-packages (from markdown-it-py>=2.2.0->rich>=10.11.0->typer<1.0.0,>=0.3.0->spacy) (0.1.2)\n",
      "Requirement already satisfied: scipy in /usr/local/lib/python3.11/dist-packages (1.13.1)\n",
      "Requirement already satisfied: numpy<2.3,>=1.22.4 in /usr/local/lib/python3.11/dist-packages (from scipy) (1.26.4)\n",
      "Requirement already satisfied: mkl_fft in /usr/local/lib/python3.11/dist-packages (from numpy<2.3,>=1.22.4->scipy) (1.3.8)\n",
      "Requirement already satisfied: mkl_random in /usr/local/lib/python3.11/dist-packages (from numpy<2.3,>=1.22.4->scipy) (1.2.4)\n",
      "Requirement already satisfied: mkl_umath in /usr/local/lib/python3.11/dist-packages (from numpy<2.3,>=1.22.4->scipy) (0.1.1)\n",
      "Requirement already satisfied: mkl in /usr/local/lib/python3.11/dist-packages (from numpy<2.3,>=1.22.4->scipy) (2025.1.0)\n",
      "Requirement already satisfied: tbb4py in /usr/local/lib/python3.11/dist-packages (from numpy<2.3,>=1.22.4->scipy) (2022.1.0)\n",
      "Requirement already satisfied: mkl-service in /usr/local/lib/python3.11/dist-packages (from numpy<2.3,>=1.22.4->scipy) (2.4.1)\n",
      "Requirement already satisfied: intel-openmp<2026,>=2024 in /usr/local/lib/python3.11/dist-packages (from mkl->numpy<2.3,>=1.22.4->scipy) (2024.2.0)\n",
      "Requirement already satisfied: tbb==2022.* in /usr/local/lib/python3.11/dist-packages (from mkl->numpy<2.3,>=1.22.4->scipy) (2022.1.0)\n",
      "Requirement already satisfied: tcmlib==1.* in /usr/local/lib/python3.11/dist-packages (from tbb==2022.*->mkl->numpy<2.3,>=1.22.4->scipy) (1.2.0)\n",
      "Requirement already satisfied: intel-cmplr-lib-rt in /usr/local/lib/python3.11/dist-packages (from mkl_umath->numpy<2.3,>=1.22.4->scipy) (2024.2.0)\n",
      "Requirement already satisfied: intel-cmplr-lib-ur==2024.2.0 in /usr/local/lib/python3.11/dist-packages (from intel-openmp<2026,>=2024->mkl->numpy<2.3,>=1.22.4->scipy) (2024.2.0)\n",
      "Requirement already satisfied: wandb in /usr/local/lib/python3.11/dist-packages (0.19.6)\n",
      "Requirement already satisfied: click!=8.0.0,>=7.1 in /usr/local/lib/python3.11/dist-packages (from wandb) (8.1.8)\n",
      "Requirement already satisfied: docker-pycreds>=0.4.0 in /usr/local/lib/python3.11/dist-packages (from wandb) (0.4.0)\n",
      "Requirement already satisfied: gitpython!=3.1.29,>=1.0.0 in /usr/local/lib/python3.11/dist-packages (from wandb) (3.1.44)\n",
      "Requirement already satisfied: platformdirs in /usr/local/lib/python3.11/dist-packages (from wandb) (4.3.7)\n",
      "Requirement already satisfied: protobuf!=4.21.0,!=5.28.0,<6,>=3.19.0 in /usr/local/lib/python3.11/dist-packages (from wandb) (3.20.3)\n",
      "Requirement already satisfied: psutil>=5.0.0 in /usr/local/lib/python3.11/dist-packages (from wandb) (7.0.0)\n",
      "Requirement already satisfied: pydantic<3,>=2.6 in /usr/local/lib/python3.11/dist-packages (from wandb) (2.11.3)\n",
      "Requirement already satisfied: pyyaml in /usr/local/lib/python3.11/dist-packages (from wandb) (6.0.2)\n",
      "Requirement already satisfied: requests<3,>=2.0.0 in /usr/local/lib/python3.11/dist-packages (from wandb) (2.32.3)\n",
      "Requirement already satisfied: sentry-sdk>=2.0.0 in /usr/local/lib/python3.11/dist-packages (from wandb) (2.21.0)\n",
      "Requirement already satisfied: setproctitle in /usr/local/lib/python3.11/dist-packages (from wandb) (1.3.4)\n",
      "Requirement already satisfied: setuptools in /usr/local/lib/python3.11/dist-packages (from wandb) (75.1.0)\n",
      "Requirement already satisfied: typing-extensions<5,>=4.4 in /usr/local/lib/python3.11/dist-packages (from wandb) (4.13.1)\n",
      "Requirement already satisfied: six>=1.4.0 in /usr/local/lib/python3.11/dist-packages (from docker-pycreds>=0.4.0->wandb) (1.17.0)\n",
      "Requirement already satisfied: gitdb<5,>=4.0.1 in /usr/local/lib/python3.11/dist-packages (from gitpython!=3.1.29,>=1.0.0->wandb) (4.0.12)\n",
      "Requirement already satisfied: annotated-types>=0.6.0 in /usr/local/lib/python3.11/dist-packages (from pydantic<3,>=2.6->wandb) (0.7.0)\n",
      "Requirement already satisfied: pydantic-core==2.33.1 in /usr/local/lib/python3.11/dist-packages (from pydantic<3,>=2.6->wandb) (2.33.1)\n",
      "Requirement already satisfied: typing-inspection>=0.4.0 in /usr/local/lib/python3.11/dist-packages (from pydantic<3,>=2.6->wandb) (0.4.0)\n",
      "Requirement already satisfied: charset-normalizer<4,>=2 in /usr/local/lib/python3.11/dist-packages (from requests<3,>=2.0.0->wandb) (3.4.1)\n",
      "Requirement already satisfied: idna<4,>=2.5 in /usr/local/lib/python3.11/dist-packages (from requests<3,>=2.0.0->wandb) (3.10)\n",
      "Requirement already satisfied: urllib3<3,>=1.21.1 in /usr/local/lib/python3.11/dist-packages (from requests<3,>=2.0.0->wandb) (2.3.0)\n",
      "Requirement already satisfied: certifi>=2017.4.17 in /usr/local/lib/python3.11/dist-packages (from requests<3,>=2.0.0->wandb) (2025.1.31)\n",
      "Requirement already satisfied: smmap<6,>=3.0.1 in /usr/local/lib/python3.11/dist-packages (from gitdb<5,>=4.0.1->gitpython!=3.1.29,>=1.0.0->wandb) (5.0.2)\n",
      "Requirement already satisfied: nltk in /usr/local/lib/python3.11/dist-packages (3.9.1)\n",
      "Requirement already satisfied: click in /usr/local/lib/python3.11/dist-packages (from nltk) (8.1.8)\n",
      "Requirement already satisfied: joblib in /usr/local/lib/python3.11/dist-packages (from nltk) (1.4.2)\n",
      "Requirement already satisfied: regex>=2021.8.3 in /usr/local/lib/python3.11/dist-packages (from nltk) (2024.11.6)\n",
      "Requirement already satisfied: tqdm in /usr/local/lib/python3.11/dist-packages (from nltk) (4.67.1)\n",
      "Requirement already satisfied: xgboost in /usr/local/lib/python3.11/dist-packages (2.0.3)\n",
      "Requirement already satisfied: numpy in /usr/local/lib/python3.11/dist-packages (from xgboost) (1.26.4)\n",
      "Requirement already satisfied: scipy in /usr/local/lib/python3.11/dist-packages (from xgboost) (1.13.1)\n",
      "Requirement already satisfied: mkl_fft in /usr/local/lib/python3.11/dist-packages (from numpy->xgboost) (1.3.8)\n",
      "Requirement already satisfied: mkl_random in /usr/local/lib/python3.11/dist-packages (from numpy->xgboost) (1.2.4)\n",
      "Requirement already satisfied: mkl_umath in /usr/local/lib/python3.11/dist-packages (from numpy->xgboost) (0.1.1)\n",
      "Requirement already satisfied: mkl in /usr/local/lib/python3.11/dist-packages (from numpy->xgboost) (2025.1.0)\n",
      "Requirement already satisfied: tbb4py in /usr/local/lib/python3.11/dist-packages (from numpy->xgboost) (2022.1.0)\n",
      "Requirement already satisfied: mkl-service in /usr/local/lib/python3.11/dist-packages (from numpy->xgboost) (2.4.1)\n",
      "Requirement already satisfied: intel-openmp<2026,>=2024 in /usr/local/lib/python3.11/dist-packages (from mkl->numpy->xgboost) (2024.2.0)\n",
      "Requirement already satisfied: tbb==2022.* in /usr/local/lib/python3.11/dist-packages (from mkl->numpy->xgboost) (2022.1.0)\n",
      "Requirement already satisfied: tcmlib==1.* in /usr/local/lib/python3.11/dist-packages (from tbb==2022.*->mkl->numpy->xgboost) (1.2.0)\n",
      "Requirement already satisfied: intel-cmplr-lib-rt in /usr/local/lib/python3.11/dist-packages (from mkl_umath->numpy->xgboost) (2024.2.0)\n",
      "Requirement already satisfied: intel-cmplr-lib-ur==2024.2.0 in /usr/local/lib/python3.11/dist-packages (from intel-openmp<2026,>=2024->mkl->numpy->xgboost) (2024.2.0)\n"
     ]
    }
   ],
   "source": [
    "!pip install farasapy\n",
    "!pip install tqdm\n",
    "!pip install gensim\n",
    "!pip install spacy\n",
    "!pip install scipy\n",
    "!pip install wandb\n",
    "!pip install nltk\n",
    "!pip install xgboost "
   ]
  },
  {
   "cell_type": "markdown",
   "metadata": {
    "_cell_guid": "2b541ad5-df55-4c74-8370-dc7e92b52131",
    "_uuid": "2c039da7-e6d1-4c70-a0dd-ab97b2015dbd",
    "collapsed": false,
    "jupyter": {
     "outputs_hidden": false
    },
    "trusted": true
   },
   "source": [
    "> ## Import Requirements"
   ]
  },
  {
   "cell_type": "code",
   "execution_count": 11,
   "metadata": {
    "_cell_guid": "63307e2e-4cd8-4813-ad28-91899212957d",
    "_uuid": "dfe8e54e-dbdc-4963-bf22-4ec05addf49c",
    "collapsed": false,
    "execution": {
     "iopub.execute_input": "2025-04-28T20:53:28.875892Z",
     "iopub.status.busy": "2025-04-28T20:53:28.875570Z",
     "iopub.status.idle": "2025-04-28T20:54:18.022023Z",
     "shell.execute_reply": "2025-04-28T20:54:18.021470Z",
     "shell.execute_reply.started": "2025-04-28T20:53:28.875869Z"
    },
    "jupyter": {
     "outputs_hidden": false
    },
    "trusted": true
   },
   "outputs": [
    {
     "name": "stderr",
     "output_type": "stream",
     "text": [
      "2025-04-28 20:53:58.032295: E external/local_xla/xla/stream_executor/cuda/cuda_fft.cc:477] Unable to register cuFFT factory: Attempting to register factory for plugin cuFFT when one has already been registered\n",
      "WARNING: All log messages before absl::InitializeLog() is called are written to STDERR\n",
      "E0000 00:00:1745873638.237336      31 cuda_dnn.cc:8310] Unable to register cuDNN factory: Attempting to register factory for plugin cuDNN when one has already been registered\n",
      "E0000 00:00:1745873638.296263      31 cuda_blas.cc:1418] Unable to register cuBLAS factory: Attempting to register factory for plugin cuBLAS when one has already been registered\n"
     ]
    }
   ],
   "source": [
    "import pandas as pd \n",
    "import re\n",
    "import string\n",
    "import numpy as np\n",
    "import matplotlib.pyplot as plt\n",
    "import pickle\n",
    "from time import time\n",
    "from pathlib import Path\n",
    "from sklearn.metrics import roc_auc_score, roc_curve\n",
    "import matplotlib.pyplot as plt\n",
    "\n",
    "\n",
    "\n",
    "\n",
    "import spacy\n",
    "import nltk\n",
    "from nltk.corpus import stopwords\n",
    "from nltk.stem.snowball import SnowballStemmer\n",
    "from nltk.tokenize import sent_tokenize\n",
    "from nltk.tokenize import word_tokenize\n",
    "from farasa.stemmer import FarasaStemmer\n",
    "from farasa.segmenter import FarasaSegmenter\n",
    "import unicodedata\n",
    "from nltk.stem import WordNetLemmatizer\n",
    "import joblib\n",
    "from multiprocessing import Pool\n",
    "from concurrent.futures import ThreadPoolExecutor\n",
    "\n",
    "from tqdm import tqdm\n",
    "import warnings\n",
    "warnings.filterwarnings('ignore')\n",
    "\n",
    "\n",
    "from sklearn.model_selection import train_test_split\n",
    "\n",
    "\n",
    "from sklearn.linear_model import LogisticRegression\n",
    "from sklearn.ensemble import GradientBoostingClassifier, RandomForestClassifier\n",
    "from sklearn.svm import SVC\n",
    "from xgboost import XGBClassifier\n",
    "\n",
    "from sklearn.metrics import accuracy_score, precision_score, recall_score, f1_score, classification_report , confusion_matrix, ConfusionMatrixDisplay\n",
    "\n",
    "from gensim.models.fasttext import load_facebook_vectors\n",
    "\n",
    "\n",
    "\n",
    "import tensorflow as tf\n",
    "from tensorflow.keras.models import Sequential\n",
    "from tensorflow.keras.layers import Embedding, LSTM, Dropout, BatchNormalization, Dense, Bidirectional\n",
    "\n",
    "\n",
    "import torch\n",
    "from transformers import XLMRobertaTokenizer, XLMRobertaForSequenceClassification, Trainer, TrainingArguments\n",
    "from datasets import Dataset"
   ]
  },
  {
   "cell_type": "markdown",
   "metadata": {},
   "source": [
    "> ## Import Data"
   ]
  },
  {
   "cell_type": "code",
   "execution_count": null,
   "metadata": {
    "_cell_guid": "9b8cbae7-85c8-4b6e-8af4-e6afa367d3e8",
    "_uuid": "eb454885-4cb1-4b47-aed0-162fd2544e35",
    "collapsed": false,
    "execution": {
     "iopub.execute_input": "2025-04-28T21:03:38.579710Z",
     "iopub.status.busy": "2025-04-28T21:03:38.579437Z",
     "iopub.status.idle": "2025-04-28T21:04:02.955394Z",
     "shell.execute_reply": "2025-04-28T21:04:02.954791Z",
     "shell.execute_reply.started": "2025-04-28T21:03:38.579686Z"
    },
    "jupyter": {
     "outputs_hidden": false
    },
    "trusted": true
   },
   "outputs": [],
   "source": [
    "df_ar =  pd.read_csv('/Cleaned_Data/processed_ar_data.csv')"
   ]
  },
  {
   "cell_type": "code",
   "execution_count": 17,
   "metadata": {
    "execution": {
     "iopub.execute_input": "2025-04-28T21:04:02.956540Z",
     "iopub.status.busy": "2025-04-28T21:04:02.956279Z",
     "iopub.status.idle": "2025-04-28T21:04:02.981740Z",
     "shell.execute_reply": "2025-04-28T21:04:02.981132Z",
     "shell.execute_reply.started": "2025-04-28T21:04:02.956519Z"
    },
    "trusted": true
   },
   "outputs": [
    {
     "data": {
      "text/html": [
       "<div>\n",
       "<style scoped>\n",
       "    .dataframe tbody tr th:only-of-type {\n",
       "        vertical-align: middle;\n",
       "    }\n",
       "\n",
       "    .dataframe tbody tr th {\n",
       "        vertical-align: top;\n",
       "    }\n",
       "\n",
       "    .dataframe thead th {\n",
       "        text-align: right;\n",
       "    }\n",
       "</style>\n",
       "<table border=\"1\" class=\"dataframe\">\n",
       "  <thead>\n",
       "    <tr style=\"text-align: right;\">\n",
       "      <th></th>\n",
       "      <th>title</th>\n",
       "      <th>text</th>\n",
       "      <th>label</th>\n",
       "    </tr>\n",
       "  </thead>\n",
       "  <tbody>\n",
       "    <tr>\n",
       "      <th>0</th>\n",
       "      <td>فيديو, هل لديك حساسية طعام؟المدة, 25,18</td>\n",
       "      <td>يعاني الكثير الشباب منطقة الشرق الأوسط وشمال أ...</td>\n",
       "      <td>real</td>\n",
       "    </tr>\n",
       "    <tr>\n",
       "      <th>1</th>\n",
       "      <td>اخر الاخبار اليوم محافظ المنيا ورئيس الجامعة ي...</td>\n",
       "      <td>الدكتور مصطفي عبد النبي رئيس جامعة المنيا والل...</td>\n",
       "      <td>fake</td>\n",
       "    </tr>\n",
       "    <tr>\n",
       "      <th>2</th>\n",
       "      <td>مدبولي يتابع الموقف التنفيذي لمشروع تطوير وتنم...</td>\n",
       "      <td>وأكد رئيس الوزراء المشروع القومي الكبير سيتم إ...</td>\n",
       "      <td>real</td>\n",
       "    </tr>\n",
       "    <tr>\n",
       "      <th>3</th>\n",
       "      <td>تسرب بسببها فصل بالكامل.. فاطمة رشدى ضربت الطا...</td>\n",
       "      <td>شكرا لقرائتكم خبر تسرب بسببها فصل بالكامل فاطم...</td>\n",
       "      <td>fake</td>\n",
       "    </tr>\n",
       "    <tr>\n",
       "      <th>4</th>\n",
       "      <td>سقوط تشكيل عصابي للاتجار بالمخدرات وحيازة الأس...</td>\n",
       "      <td>سقوط تشكيل عصابي للاتجار بالمخدرات وحيازة الأس...</td>\n",
       "      <td>real</td>\n",
       "    </tr>\n",
       "    <tr>\n",
       "      <th>...</th>\n",
       "      <td>...</td>\n",
       "      <td>...</td>\n",
       "      <td>...</td>\n",
       "    </tr>\n",
       "    <tr>\n",
       "      <th>365995</th>\n",
       "      <td>صحافة نت الإمارات : إنترفيو.. لوكاس كو: كوريا ...</td>\n",
       "      <td>صحافة نت الإمارات تفاصيل المقالة التالية إنترف...</td>\n",
       "      <td>fake</td>\n",
       "    </tr>\n",
       "    <tr>\n",
       "      <th>365996</th>\n",
       "      <td>اصابة الفنانة المصرية هنا الزاهد بكورونا</td>\n",
       "      <td>نقل السابع المصري نصدر مقرب النجمة الزاهد أنها...</td>\n",
       "      <td>real</td>\n",
       "    </tr>\n",
       "    <tr>\n",
       "      <th>365997</th>\n",
       "      <td>افتتاح معرض أهلا رمضان في مدينة ناصر بسوهاج بت...</td>\n",
       "      <td>كتب فهد فكرى بلوم افتتح اللواء طارق الفقي محاف...</td>\n",
       "      <td>real</td>\n",
       "    </tr>\n",
       "    <tr>\n",
       "      <th>365998</th>\n",
       "      <td>الوحدة الاخباري : وسائل إعلام: توقعات بفرض واش...</td>\n",
       "      <td>مصدران مطلعان الاثنين المتوقع تفرض واشنطن عقوب...</td>\n",
       "      <td>fake</td>\n",
       "    </tr>\n",
       "    <tr>\n",
       "      <th>365999</th>\n",
       "      <td>حقيقة انفصال محمد رمضان عن زوجته (خاص)</td>\n",
       "      <td>كتب دينا دهب نشرت المواقع الإخبارية الساعات ال...</td>\n",
       "      <td>real</td>\n",
       "    </tr>\n",
       "  </tbody>\n",
       "</table>\n",
       "<p>366000 rows × 3 columns</p>\n",
       "</div>"
      ],
      "text/plain": [
       "                                                    title  \\\n",
       "0                 فيديو, هل لديك حساسية طعام؟المدة, 25,18   \n",
       "1       اخر الاخبار اليوم محافظ المنيا ورئيس الجامعة ي...   \n",
       "2       مدبولي يتابع الموقف التنفيذي لمشروع تطوير وتنم...   \n",
       "3       تسرب بسببها فصل بالكامل.. فاطمة رشدى ضربت الطا...   \n",
       "4       سقوط تشكيل عصابي للاتجار بالمخدرات وحيازة الأس...   \n",
       "...                                                   ...   \n",
       "365995  صحافة نت الإمارات : إنترفيو.. لوكاس كو: كوريا ...   \n",
       "365996           اصابة الفنانة المصرية هنا الزاهد بكورونا   \n",
       "365997  افتتاح معرض أهلا رمضان في مدينة ناصر بسوهاج بت...   \n",
       "365998  الوحدة الاخباري : وسائل إعلام: توقعات بفرض واش...   \n",
       "365999             حقيقة انفصال محمد رمضان عن زوجته (خاص)   \n",
       "\n",
       "                                                     text label  \n",
       "0       يعاني الكثير الشباب منطقة الشرق الأوسط وشمال أ...  real  \n",
       "1       الدكتور مصطفي عبد النبي رئيس جامعة المنيا والل...  fake  \n",
       "2       وأكد رئيس الوزراء المشروع القومي الكبير سيتم إ...  real  \n",
       "3       شكرا لقرائتكم خبر تسرب بسببها فصل بالكامل فاطم...  fake  \n",
       "4       سقوط تشكيل عصابي للاتجار بالمخدرات وحيازة الأس...  real  \n",
       "...                                                   ...   ...  \n",
       "365995  صحافة نت الإمارات تفاصيل المقالة التالية إنترف...  fake  \n",
       "365996  نقل السابع المصري نصدر مقرب النجمة الزاهد أنها...  real  \n",
       "365997  كتب فهد فكرى بلوم افتتح اللواء طارق الفقي محاف...  real  \n",
       "365998  مصدران مطلعان الاثنين المتوقع تفرض واشنطن عقوب...  fake  \n",
       "365999  كتب دينا دهب نشرت المواقع الإخبارية الساعات ال...  real  \n",
       "\n",
       "[366000 rows x 3 columns]"
      ]
     },
     "execution_count": 17,
     "metadata": {},
     "output_type": "execute_result"
    }
   ],
   "source": [
    "df_ar"
   ]
  },
  {
   "cell_type": "code",
   "execution_count": null,
   "metadata": {},
   "outputs": [],
   "source": [
    "X = df_ar['text']\n",
    "y = df_ar['label']"
   ]
  },
  {
   "cell_type": "markdown",
   "metadata": {
    "_cell_guid": "9a9ee107-4959-4759-aea3-297179005f97",
    "_uuid": "9f0c0cd3-d66a-48a9-87c0-cb07e4031366",
    "collapsed": false,
    "jupyter": {
     "outputs_hidden": false
    },
    "trusted": true
   },
   "source": [
    "> ##  Vectorization (TFIDF)"
   ]
  },
  {
   "cell_type": "code",
   "execution_count": null,
   "metadata": {
    "_cell_guid": "2b5d0aca-db9f-49b3-9d4a-c8db32938a66",
    "_uuid": "91e75313-689f-463d-aac8-919f9f075793",
    "collapsed": false,
    "execution": {
     "iopub.execute_input": "2025-04-28T20:35:57.603453Z",
     "iopub.status.busy": "2025-04-28T20:35:57.603268Z",
     "iopub.status.idle": "2025-04-28T20:37:09.772219Z",
     "shell.execute_reply": "2025-04-28T20:37:09.771620Z",
     "shell.execute_reply.started": "2025-04-28T20:35:57.603439Z"
    },
    "jupyter": {
     "outputs_hidden": false
    },
    "trusted": true
   },
   "outputs": [],
   "source": [
    "from sklearn.feature_extraction.text import TfidfVectorizer\n",
    "\n",
    "tfidf = TfidfVectorizer()\n",
    "\n",
    "X_tfidf = tfidf.fit_transform(X)"
   ]
  },
  {
   "cell_type": "code",
   "execution_count": null,
   "metadata": {
    "_cell_guid": "174656cf-8696-4abf-b19c-7c5b5b5af684",
    "_uuid": "2439e655-0a7d-4573-a999-713588ed6199",
    "collapsed": false,
    "execution": {
     "iopub.execute_input": "2025-04-28T20:37:09.776603Z",
     "iopub.status.busy": "2025-04-28T20:37:09.776395Z",
     "iopub.status.idle": "2025-04-28T20:37:10.080273Z",
     "shell.execute_reply": "2025-04-28T20:37:10.079653Z",
     "shell.execute_reply.started": "2025-04-28T20:37:09.776587Z"
    },
    "jupyter": {
     "outputs_hidden": false
    },
    "trusted": true
   },
   "outputs": [],
   "source": [
    "X_train, X_test, y_train, y_test = train_test_split(X_tfidf, y, test_size=0.20 , random_state=42, stratify=y)"
   ]
  },
  {
   "cell_type": "markdown",
   "metadata": {
    "_cell_guid": "4bf168f6-404c-408f-835a-e585844b6f56",
    "_uuid": "b11860fc-58f7-49b8-b881-0f0642c195ed",
    "collapsed": false,
    "jupyter": {
     "outputs_hidden": false
    },
    "trusted": true
   },
   "source": [
    "> ## Train ML Models"
   ]
  },
  {
   "cell_type": "code",
   "execution_count": null,
   "metadata": {
    "_cell_guid": "8690791a-fa7f-4c4c-baad-7d19c6ffffcf",
    "_uuid": "523c2035-ce96-485d-9ba6-211bef4d6b5c",
    "collapsed": false,
    "execution": {
     "iopub.execute_input": "2025-04-28T20:37:10.081129Z",
     "iopub.status.busy": "2025-04-28T20:37:10.080947Z",
     "iopub.status.idle": "2025-04-28T20:38:00.425198Z",
     "shell.execute_reply": "2025-04-28T20:38:00.424414Z",
     "shell.execute_reply.started": "2025-04-28T20:37:10.081115Z"
    },
    "jupyter": {
     "outputs_hidden": false
    },
    "trusted": true
   },
   "outputs": [
    {
     "name": "stdout",
     "output_type": "stream",
     "text": [
      "⏳ Training Logistic Regression...\n",
      "✅ Logistic Regression trained in 50.19s\n",
      "\n",
      "🔍 Logistic Regression Metrics:\n",
      "  Training Time: 50.19s\n",
      "  Accuracy: 0.8335\n",
      "  Precision: 0.8285\n",
      "  Recall: 0.8426\n",
      "  F1 Score: 0.8355\n",
      "Classification Report:\n",
      "              precision    recall  f1-score   support\n",
      "\n",
      "           0       0.84      0.82      0.83     50774\n",
      "           1       0.83      0.84      0.84     51111\n",
      "\n",
      "    accuracy                           0.83    101885\n",
      "   macro avg       0.83      0.83      0.83    101885\n",
      "weighted avg       0.83      0.83      0.83    101885\n",
      "\n",
      "✅ Logistic Regression model saved as Logistic Regression_model.pkl\n",
      "──────────────────────────────────────────────────\n"
     ]
    }
   ],
   "source": [
    "\n",
    "models = {\n",
    "    \"Logistic Regression\": LogisticRegression(),\n",
    "    \"Gradient Boosting\": GradientBoostingClassifier(random_state=0),\n",
    "    \"Random Forest\": RandomForestClassifier(random_state=0),\n",
    "    \"XGBoost\": XGBClassifier(use_label_encoder=False, eval_metric='logloss', random_state=42),\n",
    "    \"SVM\": SVC(probability=True)  \n",
    "}\n",
    "\n",
    "def train_and_evaluate_model(name, model, X_train, y_train, X_test, y_test):\n",
    "    \"\"\"Train a single model and evaluate its performance\"\"\"\n",
    "    print(f\"⏳ Training {name}...\")\n",
    "    start_time = time()\n",
    "    \n",
    "    # Train model\n",
    "    model.fit(X_train, y_train)\n",
    "    training_time = time() - start_time\n",
    "    \n",
    "    # Evaluate\n",
    "    y_pred = model.predict(X_test)\n",
    "    \n",
    "    metrics = {\n",
    "        'accuracy': accuracy_score(y_test, y_pred),\n",
    "        'precision': precision_score(y_test, y_pred),\n",
    "        'recall': recall_score(y_test, y_pred),\n",
    "        'f1': f1_score(y_test, y_pred),\n",
    "        'training_time': training_time\n",
    "    }\n",
    "    report = classification_report(y_test, y_pred)\n",
    "    \n",
    "    print(f\"✅ {name} trained in {training_time:.2f}s\")\n",
    "    print(f\"\\n🔍 {name} Metrics:\")\n",
    "    print(f\"  Training Time: {metrics['training_time']:.2f}s\")\n",
    "    print(f\"  Accuracy: {metrics['accuracy']:.4f}\")\n",
    "    print(f\"  Precision: {metrics['precision']:.4f}\")\n",
    "    print(f\"  Recall: {metrics['recall']:.4f}\")\n",
    "    print(f\"  F1 Score: {metrics['f1']:.4f}\")\n",
    "    print(\"Classification Report:\")\n",
    "    print(report)\n",
    "\n",
    "    joblib.dump(model, f\"./Models/Arabic/{name}_model.pkl\")\n",
    "    print(f\"✅ {name} model saved as {name}_model.pkl\")\n",
    "    print(\"─\" * 50)\n",
    "    return model, name, metrics, report\n",
    "\n",
    "\n",
    "\n",
    "# Train models sequentially\n",
    "results = []\n",
    "for name, model in models.items():\n",
    "    result = train_and_evaluate_model(name, model, X_train, y_train, X_test, y_test)\n",
    "    results.append(result)"
   ]
  },
  {
   "cell_type": "markdown",
   "metadata": {
    "_cell_guid": "64916f45-e3c2-4dd4-8430-4ced3ec94935",
    "_uuid": "b7bf4124-78e9-401e-a139-4bebfce5081b",
    "collapsed": false,
    "jupyter": {
     "outputs_hidden": false
    },
    "trusted": true
   },
   "source": [
    "> ## Word embedding ( Word2Vec)"
   ]
  },
  {
   "cell_type": "markdown",
   "metadata": {},
   "source": [
    "Download the model from : \n",
    "https://www.kaggle.com/datasets/murtadhayaseen/ccar300bin"
   ]
  },
  {
   "cell_type": "code",
   "execution_count": null,
   "metadata": {
    "_cell_guid": "98785584-27c7-473c-ab6d-68817e3ffca2",
    "_uuid": "ad1b7eb9-8cb9-4c6d-bef7-d595918c89e5",
    "collapsed": false,
    "execution": {
     "iopub.execute_input": "2025-04-28T20:38:00.426821Z",
     "iopub.status.busy": "2025-04-28T20:38:00.426057Z",
     "iopub.status.idle": "2025-04-28T20:39:44.247564Z",
     "shell.execute_reply": "2025-04-28T20:39:44.246955Z",
     "shell.execute_reply.started": "2025-04-28T20:38:00.426795Z"
    },
    "jupyter": {
     "outputs_hidden": false
    },
    "trusted": true
   },
   "outputs": [],
   "source": [
    "word2vec = load_facebook_vectors('path/cc.ar.300.bin')"
   ]
  },
  {
   "cell_type": "code",
   "execution_count": 31,
   "metadata": {
    "_cell_guid": "2009894c-072e-4b3a-9c5d-80207d6df58c",
    "_uuid": "b3ca0d96-0b4b-4e8c-858f-7ee636b0be69",
    "collapsed": false,
    "execution": {
     "iopub.execute_input": "2025-04-28T20:39:44.248523Z",
     "iopub.status.busy": "2025-04-28T20:39:44.248333Z",
     "iopub.status.idle": "2025-04-28T20:39:44.252668Z",
     "shell.execute_reply": "2025-04-28T20:39:44.251926Z",
     "shell.execute_reply.started": "2025-04-28T20:39:44.248509Z"
    },
    "jupyter": {
     "outputs_hidden": false
    },
    "trusted": true
   },
   "outputs": [
    {
     "name": "stdout",
     "output_type": "stream",
     "text": [
      "Vocabulary Size: 2000000\n",
      "Vector Size: 300\n"
     ]
    }
   ],
   "source": [
    "print(f\"Vocabulary Size: {len(word2vec.index_to_key)}\")\n",
    "print(f\"Vector Size: {word2vec.vector_size}\")"
   ]
  },
  {
   "cell_type": "code",
   "execution_count": 32,
   "metadata": {
    "_cell_guid": "2f7deb55-e0a5-494f-901b-b06fed31c200",
    "_uuid": "ea295038-6837-40a1-bc04-ec12e1384c36",
    "collapsed": false,
    "execution": {
     "iopub.execute_input": "2025-04-28T20:39:44.253672Z",
     "iopub.status.busy": "2025-04-28T20:39:44.253379Z",
     "iopub.status.idle": "2025-04-28T20:39:44.270453Z",
     "shell.execute_reply": "2025-04-28T20:39:44.269822Z",
     "shell.execute_reply.started": "2025-04-28T20:39:44.253654Z"
    },
    "jupyter": {
     "outputs_hidden": false
    },
    "trusted": true
   },
   "outputs": [
    {
     "name": "stdout",
     "output_type": "stream",
     "text": [
      "Vector for 'كتاب':\n",
      "[ 0.03640094 -0.05246057 -0.00099724  0.08418036  0.16739112  0.01615874\n",
      "  0.02734274 -0.07865718  0.16556144 -0.15287851]...\n"
     ]
    }
   ],
   "source": [
    "word = \"كتاب\"  \n",
    "vector = word2vec[word]  \n",
    "\n",
    "print(f\"Vector for '{word}':\\n{vector[:10]}...\")"
   ]
  },
  {
   "cell_type": "code",
   "execution_count": 33,
   "metadata": {
    "_cell_guid": "e2fff206-9d40-4a5c-8609-5c6d4bdc323f",
    "_uuid": "6dcc9607-2d52-410c-88c7-d119055772a4",
    "collapsed": false,
    "execution": {
     "iopub.execute_input": "2025-04-28T20:39:44.271562Z",
     "iopub.status.busy": "2025-04-28T20:39:44.271318Z",
     "iopub.status.idle": "2025-04-28T20:39:45.152659Z",
     "shell.execute_reply": "2025-04-28T20:39:45.152014Z",
     "shell.execute_reply.started": "2025-04-28T20:39:44.271540Z"
    },
    "jupyter": {
     "outputs_hidden": false
    },
    "trusted": true
   },
   "outputs": [
    {
     "name": "stdout",
     "output_type": "stream",
     "text": [
      "Most similar words to 'كتاب':\n",
      "وكتاب: 0.7156\n",
      "لكتاب: 0.6849\n",
      "الكتاب: 0.6621\n",
      "بكتاب: 0.6513\n",
      "كتابه: 0.6431\n"
     ]
    }
   ],
   "source": [
    "similar_words = word2vec.most_similar(\"كتاب\", topn=5)  \n",
    "print(\"Most similar words to 'كتاب':\")\n",
    "for word, similarity in similar_words:\n",
    "    print(f\"{word}: {similarity:.4f}\")"
   ]
  },
  {
   "cell_type": "code",
   "execution_count": 34,
   "metadata": {
    "_cell_guid": "f3c9b560-bb4b-4141-9301-d56f93c7b26a",
    "_uuid": "055f6c32-c83f-4301-8071-6fdc23fe8b2f",
    "collapsed": false,
    "execution": {
     "iopub.execute_input": "2025-04-28T20:39:45.153512Z",
     "iopub.status.busy": "2025-04-28T20:39:45.153310Z",
     "iopub.status.idle": "2025-04-28T20:39:45.158173Z",
     "shell.execute_reply": "2025-04-28T20:39:45.157470Z",
     "shell.execute_reply.started": "2025-04-28T20:39:45.153496Z"
    },
    "jupyter": {
     "outputs_hidden": false
    },
    "trusted": true
   },
   "outputs": [
    {
     "name": "stdout",
     "output_type": "stream",
     "text": [
      "Similarity between 'امرأة' and 'رجل': 0.6814\n"
     ]
    }
   ],
   "source": [
    "word1 = \"امرأة\"  \n",
    "word2 = \"رجل\"  \n",
    "similarity = word2vec.similarity(word1, word2)\n",
    "\n",
    "print(f\"Similarity between '{word1}' and '{word2}': {similarity:.4f}\")"
   ]
  },
  {
   "cell_type": "markdown",
   "metadata": {
    "_cell_guid": "4b08ba29-d20d-442d-8e01-05d7116f6ea6",
    "_uuid": "b70312b3-8210-42f4-99e5-17974ec44a4f",
    "collapsed": false,
    "jupyter": {
     "outputs_hidden": false
    },
    "trusted": true
   },
   "source": [
    "Find a word that fits the analogy:\n",
    "* \"ملك\" (King) - \"رجل\" (Man) + \"امرأة\" (Woman) ≈ ???\n",
    "* (i.e., What is to \"Woman\" as \"King\" is to \"Man\"?)"
   ]
  },
  {
   "cell_type": "code",
   "execution_count": 35,
   "metadata": {
    "_cell_guid": "8dab00e5-78c3-412b-9685-5ede904f2f19",
    "_uuid": "7249ae45-2f06-4ae0-9789-69cc5676bc3c",
    "collapsed": false,
    "execution": {
     "iopub.execute_input": "2025-04-28T20:39:45.159070Z",
     "iopub.status.busy": "2025-04-28T20:39:45.158867Z",
     "iopub.status.idle": "2025-04-28T20:39:45.314110Z",
     "shell.execute_reply": "2025-04-28T20:39:45.313355Z",
     "shell.execute_reply.started": "2025-04-28T20:39:45.159055Z"
    },
    "jupyter": {
     "outputs_hidden": false
    },
    "trusted": true
   },
   "outputs": [
    {
     "name": "stdout",
     "output_type": "stream",
     "text": [
      "Analogy result (King - Man + Woman): ('ملكة', 0.5876614451408386)\n"
     ]
    }
   ],
   "source": [
    "analogy_result = word2vec.most_similar(positive=[\"ملك\", \"امرأة\"], negative=[\"رجل\"], topn=1)\n",
    "print(f\"Analogy result (King - Man + Woman): {analogy_result[0]}\")"
   ]
  },
  {
   "cell_type": "code",
   "execution_count": 36,
   "metadata": {
    "_cell_guid": "f5faf173-fd01-4ba5-b9a5-88a2474c44b4",
    "_uuid": "bf610e77-b56c-4471-b35d-5f9a9026d93e",
    "collapsed": false,
    "execution": {
     "iopub.execute_input": "2025-04-28T20:39:45.315914Z",
     "iopub.status.busy": "2025-04-28T20:39:45.315338Z",
     "iopub.status.idle": "2025-04-28T20:39:45.470483Z",
     "shell.execute_reply": "2025-04-28T20:39:45.469693Z",
     "shell.execute_reply.started": "2025-04-28T20:39:45.315893Z"
    },
    "jupyter": {
     "outputs_hidden": false
    },
    "trusted": true
   },
   "outputs": [
    {
     "name": "stdout",
     "output_type": "stream",
     "text": [
      "Analogy result : ('طبيبة', 0.7060946822166443)\n"
     ]
    }
   ],
   "source": [
    "analogy_result = word2vec.most_similar(positive=[\"طبيب\", \"امرأة\"], negative=[\"رجل\"], topn=1)\n",
    "print(f\"Analogy result : {analogy_result[0]}\")"
   ]
  },
  {
   "cell_type": "code",
   "execution_count": 37,
   "metadata": {
    "_cell_guid": "bd528d06-97c0-4a73-b7eb-52364b596555",
    "_uuid": "7fc2c42c-e954-4234-8b95-250e02e097cd",
    "collapsed": false,
    "execution": {
     "iopub.execute_input": "2025-04-28T20:39:45.471481Z",
     "iopub.status.busy": "2025-04-28T20:39:45.471275Z",
     "iopub.status.idle": "2025-04-28T20:39:45.633281Z",
     "shell.execute_reply": "2025-04-28T20:39:45.632459Z",
     "shell.execute_reply.started": "2025-04-28T20:39:45.471464Z"
    },
    "jupyter": {
     "outputs_hidden": false
    },
    "trusted": true
   },
   "outputs": [
    {
     "name": "stdout",
     "output_type": "stream",
     "text": [
      "Analogy result : ('اب', 0.6286279559135437)\n"
     ]
    }
   ],
   "source": [
    "analogy_result = word2vec.most_similar(positive=[\"أب\", \"امرأة\"], negative=[\"رجل\"], topn=1)\n",
    "print(f\"Analogy result : {analogy_result[0]}\")"
   ]
  },
  {
   "cell_type": "code",
   "execution_count": 38,
   "metadata": {
    "_cell_guid": "49b9871d-51bf-4fb5-bca1-7e19e53f7909",
    "_uuid": "f4542052-5a89-4b5c-a34f-691cd29501c3",
    "collapsed": false,
    "execution": {
     "iopub.execute_input": "2025-04-28T20:39:45.634475Z",
     "iopub.status.busy": "2025-04-28T20:39:45.634187Z",
     "iopub.status.idle": "2025-04-28T20:39:45.639248Z",
     "shell.execute_reply": "2025-04-28T20:39:45.638448Z",
     "shell.execute_reply.started": "2025-04-28T20:39:45.634456Z"
    },
    "jupyter": {
     "outputs_hidden": false
    },
    "trusted": true
   },
   "outputs": [
    {
     "name": "stdout",
     "output_type": "stream",
     "text": [
      "'ذكاء_اصطناعي' exists in vocabulary.\n"
     ]
    }
   ],
   "source": [
    "word = \"ذكاء_اصطناعي\"  \n",
    "if word in word2vec:\n",
    "    print(f\"'{word}' exists in vocabulary.\")\n",
    "else:\n",
    "    print(f\"'{word}' NOT found in vocabulary.\")"
   ]
  },
  {
   "cell_type": "code",
   "execution_count": 39,
   "metadata": {
    "_cell_guid": "b49fc81f-8cb0-4ca1-9668-c70d587ca881",
    "_uuid": "fbbc0f19-039c-4cb4-a659-aa962fbc011f",
    "collapsed": false,
    "execution": {
     "iopub.execute_input": "2025-04-28T20:39:45.640281Z",
     "iopub.status.busy": "2025-04-28T20:39:45.639998Z",
     "iopub.status.idle": "2025-04-28T20:39:45.806026Z",
     "shell.execute_reply": "2025-04-28T20:39:45.805301Z",
     "shell.execute_reply.started": "2025-04-28T20:39:45.640265Z"
    },
    "jupyter": {
     "outputs_hidden": false
    },
    "trusted": true
   },
   "outputs": [
    {
     "name": "stdout",
     "output_type": "stream",
     "text": [
      "Closest words to 'مستقبل': [('مستقبل', 1.0), ('ومستقبل', 0.8226288557052612), ('لمستقبل', 0.7837035059928894)]\n"
     ]
    }
   ],
   "source": [
    "vector = word2vec[\"مستقبل\"]  # Example word: \"Future\"\n",
    "nearest_words = word2vec.similar_by_vector(vector, topn=3)\n",
    "print(f\"Closest words to 'مستقبل': {nearest_words}\")"
   ]
  },
  {
   "cell_type": "code",
   "execution_count": 40,
   "metadata": {
    "execution": {
     "iopub.execute_input": "2025-04-28T20:39:45.806921Z",
     "iopub.status.busy": "2025-04-28T20:39:45.806702Z",
     "iopub.status.idle": "2025-04-28T20:39:45.813118Z",
     "shell.execute_reply": "2025-04-28T20:39:45.812418Z",
     "shell.execute_reply.started": "2025-04-28T20:39:45.806905Z"
    },
    "trusted": true
   },
   "outputs": [],
   "source": [
    "from tensorflow.keras.preprocessing.text import Tokenizer\n",
    "from tensorflow.keras.preprocessing.sequence import pad_sequences\n"
   ]
  },
  {
   "cell_type": "code",
   "execution_count": null,
   "metadata": {
    "_cell_guid": "81c2ff36-d54f-4982-ae1c-38a4c4b75377",
    "_uuid": "5bee7e42-e900-4afd-8e72-71ebca0c5b53",
    "collapsed": false,
    "execution": {
     "iopub.execute_input": "2025-04-28T20:39:45.814192Z",
     "iopub.status.busy": "2025-04-28T20:39:45.813944Z",
     "iopub.status.idle": "2025-04-28T20:42:48.782373Z",
     "shell.execute_reply": "2025-04-28T20:42:48.781784Z",
     "shell.execute_reply.started": "2025-04-28T20:39:45.814176Z"
    },
    "jupyter": {
     "outputs_hidden": false
    },
    "trusted": true
   },
   "outputs": [],
   "source": [
    "tokenizer = Tokenizer()\n",
    "tokenizer.fit_on_texts(df_ar[\"text\"])\n",
    "sequences = tokenizer.texts_to_sequences(df_ar[\"text\"])\n",
    "word_index = tokenizer.word_index\n",
    "\n",
    "X = pad_sequences(sequences, maxlen=300)\n",
    "\n"
   ]
  },
  {
   "cell_type": "code",
   "execution_count": 42,
   "metadata": {
    "execution": {
     "iopub.execute_input": "2025-04-28T20:42:48.783275Z",
     "iopub.status.busy": "2025-04-28T20:42:48.783061Z",
     "iopub.status.idle": "2025-04-28T20:42:49.253387Z",
     "shell.execute_reply": "2025-04-28T20:42:49.252625Z",
     "shell.execute_reply.started": "2025-04-28T20:42:48.783258Z"
    },
    "trusted": true
   },
   "outputs": [],
   "source": [
    "df_ar = df_ar.reset_index(drop=True)\n"
   ]
  },
  {
   "cell_type": "code",
   "execution_count": null,
   "metadata": {
    "_cell_guid": "6d068683-3ad9-465c-abce-2724165862e7",
    "_uuid": "55c26232-33b7-4120-b70a-3c6c379b4822",
    "collapsed": false,
    "execution": {
     "iopub.execute_input": "2025-04-28T20:42:49.254767Z",
     "iopub.status.busy": "2025-04-28T20:42:49.254237Z",
     "iopub.status.idle": "2025-04-28T20:42:49.259259Z",
     "shell.execute_reply": "2025-04-28T20:42:49.258700Z",
     "shell.execute_reply.started": "2025-04-28T20:42:49.254745Z"
    },
    "jupyter": {
     "outputs_hidden": false
    },
    "trusted": true
   },
   "outputs": [
    {
     "data": {
      "text/plain": [
       "727974"
      ]
     },
     "execution_count": 43,
     "metadata": {},
     "output_type": "execute_result"
    }
   ],
   "source": [
    "vocab_size = len(word_index) + 1\n",
    "vocab_size"
   ]
  },
  {
   "cell_type": "code",
   "execution_count": null,
   "metadata": {
    "_cell_guid": "9d82bd9d-d13d-4374-895b-cb9979bde408",
    "_uuid": "03cafdb6-35c2-4e07-a719-5eaf2d2c2e88",
    "collapsed": false,
    "execution": {
     "iopub.execute_input": "2025-04-28T20:42:49.260060Z",
     "iopub.status.busy": "2025-04-28T20:42:49.259865Z",
     "iopub.status.idle": "2025-04-28T20:42:57.065863Z",
     "shell.execute_reply": "2025-04-28T20:42:57.065115Z",
     "shell.execute_reply.started": "2025-04-28T20:42:49.260044Z"
    },
    "jupyter": {
     "outputs_hidden": false
    },
    "trusted": true
   },
   "outputs": [],
   "source": [
    "embedding_dim = word2vec.vector_size\n",
    "\n",
    "embedding_matrix = np.zeros((vocab_size, embedding_dim))\n",
    "for word, i in word_index.items():\n",
    "    if word in word2vec:\n",
    "        embedding_matrix[i] = word2vec[word]\n",
    "\n",
    "\n",
    "y = df_ar['label'].values\n"
   ]
  },
  {
   "cell_type": "code",
   "execution_count": null,
   "metadata": {
    "_cell_guid": "04dd2061-91a1-426f-9ad4-338092d530ae",
    "_uuid": "f4720f52-c003-4f9b-9c4f-c5c5ea52c216",
    "collapsed": false,
    "execution": {
     "iopub.execute_input": "2025-04-28T20:42:57.066988Z",
     "iopub.status.busy": "2025-04-28T20:42:57.066712Z",
     "iopub.status.idle": "2025-04-28T20:42:57.283385Z",
     "shell.execute_reply": "2025-04-28T20:42:57.282796Z",
     "shell.execute_reply.started": "2025-04-28T20:42:57.066963Z"
    },
    "jupyter": {
     "outputs_hidden": false
    },
    "trusted": true
   },
   "outputs": [],
   "source": [
    "X_train, X_test, y_train, y_test = train_test_split(\n",
    "    X, y, test_size=0.2, random_state=42\n",
    ")"
   ]
  },
  {
   "cell_type": "markdown",
   "metadata": {},
   "source": [
    "> ## Train LSTM Model"
   ]
  },
  {
   "cell_type": "code",
   "execution_count": 46,
   "metadata": {
    "_cell_guid": "361a8176-5d5e-4431-814b-8952d326108e",
    "_uuid": "2c687103-e675-482c-b2e4-6b5b1503b41d",
    "collapsed": false,
    "execution": {
     "iopub.execute_input": "2025-04-28T20:42:57.284405Z",
     "iopub.status.busy": "2025-04-28T20:42:57.284146Z",
     "iopub.status.idle": "2025-04-28T20:43:01.955085Z",
     "shell.execute_reply": "2025-04-28T20:43:01.954205Z",
     "shell.execute_reply.started": "2025-04-28T20:42:57.284380Z"
    },
    "jupyter": {
     "outputs_hidden": false
    },
    "trusted": true
   },
   "outputs": [
    {
     "name": "stderr",
     "output_type": "stream",
     "text": [
      "I0000 00:00:1745872977.490319      31 gpu_device.cc:2022] Created device /job:localhost/replica:0/task:0/device:GPU:0 with 15513 MB memory:  -> device: 0, name: Tesla P100-PCIE-16GB, pci bus id: 0000:00:04.0, compute capability: 6.0\n"
     ]
    }
   ],
   "source": [
    "model = Sequential([\n",
    "    Embedding(\n",
    "        input_dim=vocab_size,\n",
    "        output_dim=embedding_dim,\n",
    "        weights=[embedding_matrix],\n",
    "        input_shape=(300,), \n",
    "        trainable=False  \n",
    "    ),\n",
    "    Bidirectional(LSTM(64, return_sequences=True)), \n",
    "    Dropout(0.5),  \n",
    "    BatchNormalization(),\n",
    "    LSTM(64),  \n",
    "    Dropout(0.5),\n",
    "    Dense(32, activation='relu'),\n",
    "    Dropout(0.5),\n",
    "    Dense(1, activation='sigmoid')\n",
    "])"
   ]
  },
  {
   "cell_type": "code",
   "execution_count": null,
   "metadata": {
    "_cell_guid": "30a288c8-d020-4288-b946-b82c448a8c0c",
    "_uuid": "91cf392e-3d0e-4593-bfcd-a9917ddbcabe",
    "collapsed": false,
    "execution": {
     "iopub.execute_input": "2025-04-28T20:43:01.956262Z",
     "iopub.status.busy": "2025-04-28T20:43:01.955992Z",
     "iopub.status.idle": "2025-04-28T20:43:01.969524Z",
     "shell.execute_reply": "2025-04-28T20:43:01.968828Z",
     "shell.execute_reply.started": "2025-04-28T20:43:01.956238Z"
    },
    "jupyter": {
     "outputs_hidden": false
    },
    "trusted": true
   },
   "outputs": [],
   "source": [
    "model.compile(\n",
    "    optimizer=tf.keras.optimizers.Adam(learning_rate=0.001),\n",
    "    loss='binary_crossentropy',\n",
    "    metrics=['accuracy' \n",
    "            , tf.keras.metrics.Precision(name='precision'),\n",
    "             tf.keras.metrics.Recall(name='recall')\n",
    "            ]\n",
    ")"
   ]
  },
  {
   "cell_type": "code",
   "execution_count": 48,
   "metadata": {
    "_cell_guid": "ef001e71-0932-4655-9559-f5a001d8de58",
    "_uuid": "f5dc66d9-de42-42af-8b84-0b93a3f1f991",
    "collapsed": false,
    "execution": {
     "iopub.execute_input": "2025-04-28T20:43:01.970576Z",
     "iopub.status.busy": "2025-04-28T20:43:01.970368Z",
     "iopub.status.idle": "2025-04-28T20:43:01.999848Z",
     "shell.execute_reply": "2025-04-28T20:43:01.999145Z",
     "shell.execute_reply.started": "2025-04-28T20:43:01.970560Z"
    },
    "jupyter": {
     "outputs_hidden": false
    },
    "trusted": true
   },
   "outputs": [
    {
     "data": {
      "text/html": [
       "<pre style=\"white-space:pre;overflow-x:auto;line-height:normal;font-family:Menlo,'DejaVu Sans Mono',consolas,'Courier New',monospace\"><span style=\"font-weight: bold\">Model: \"sequential\"</span>\n",
       "</pre>\n"
      ],
      "text/plain": [
       "\u001b[1mModel: \"sequential\"\u001b[0m\n"
      ]
     },
     "metadata": {},
     "output_type": "display_data"
    },
    {
     "data": {
      "text/html": [
       "<pre style=\"white-space:pre;overflow-x:auto;line-height:normal;font-family:Menlo,'DejaVu Sans Mono',consolas,'Courier New',monospace\">┏━━━━━━━━━━━━━━━━━━━━━━━━━━━━━━━━━━━━━━┳━━━━━━━━━━━━━━━━━━━━━━━━━━━━━┳━━━━━━━━━━━━━━━━━┓\n",
       "┃<span style=\"font-weight: bold\"> Layer (type)                         </span>┃<span style=\"font-weight: bold\"> Output Shape                </span>┃<span style=\"font-weight: bold\">         Param # </span>┃\n",
       "┡━━━━━━━━━━━━━━━━━━━━━━━━━━━━━━━━━━━━━━╇━━━━━━━━━━━━━━━━━━━━━━━━━━━━━╇━━━━━━━━━━━━━━━━━┩\n",
       "│ embedding (<span style=\"color: #0087ff; text-decoration-color: #0087ff\">Embedding</span>)                │ (<span style=\"color: #00d7ff; text-decoration-color: #00d7ff\">None</span>, <span style=\"color: #00af00; text-decoration-color: #00af00\">300</span>, <span style=\"color: #00af00; text-decoration-color: #00af00\">300</span>)            │     <span style=\"color: #00af00; text-decoration-color: #00af00\">218,392,200</span> │\n",
       "├──────────────────────────────────────┼─────────────────────────────┼─────────────────┤\n",
       "│ bidirectional (<span style=\"color: #0087ff; text-decoration-color: #0087ff\">Bidirectional</span>)        │ (<span style=\"color: #00d7ff; text-decoration-color: #00d7ff\">None</span>, <span style=\"color: #00af00; text-decoration-color: #00af00\">300</span>, <span style=\"color: #00af00; text-decoration-color: #00af00\">128</span>)            │         <span style=\"color: #00af00; text-decoration-color: #00af00\">186,880</span> │\n",
       "├──────────────────────────────────────┼─────────────────────────────┼─────────────────┤\n",
       "│ dropout (<span style=\"color: #0087ff; text-decoration-color: #0087ff\">Dropout</span>)                    │ (<span style=\"color: #00d7ff; text-decoration-color: #00d7ff\">None</span>, <span style=\"color: #00af00; text-decoration-color: #00af00\">300</span>, <span style=\"color: #00af00; text-decoration-color: #00af00\">128</span>)            │               <span style=\"color: #00af00; text-decoration-color: #00af00\">0</span> │\n",
       "├──────────────────────────────────────┼─────────────────────────────┼─────────────────┤\n",
       "│ batch_normalization                  │ (<span style=\"color: #00d7ff; text-decoration-color: #00d7ff\">None</span>, <span style=\"color: #00af00; text-decoration-color: #00af00\">300</span>, <span style=\"color: #00af00; text-decoration-color: #00af00\">128</span>)            │             <span style=\"color: #00af00; text-decoration-color: #00af00\">512</span> │\n",
       "│ (<span style=\"color: #0087ff; text-decoration-color: #0087ff\">BatchNormalization</span>)                 │                             │                 │\n",
       "├──────────────────────────────────────┼─────────────────────────────┼─────────────────┤\n",
       "│ lstm_1 (<span style=\"color: #0087ff; text-decoration-color: #0087ff\">LSTM</span>)                        │ (<span style=\"color: #00d7ff; text-decoration-color: #00d7ff\">None</span>, <span style=\"color: #00af00; text-decoration-color: #00af00\">64</span>)                  │          <span style=\"color: #00af00; text-decoration-color: #00af00\">49,408</span> │\n",
       "├──────────────────────────────────────┼─────────────────────────────┼─────────────────┤\n",
       "│ dropout_1 (<span style=\"color: #0087ff; text-decoration-color: #0087ff\">Dropout</span>)                  │ (<span style=\"color: #00d7ff; text-decoration-color: #00d7ff\">None</span>, <span style=\"color: #00af00; text-decoration-color: #00af00\">64</span>)                  │               <span style=\"color: #00af00; text-decoration-color: #00af00\">0</span> │\n",
       "├──────────────────────────────────────┼─────────────────────────────┼─────────────────┤\n",
       "│ dense (<span style=\"color: #0087ff; text-decoration-color: #0087ff\">Dense</span>)                        │ (<span style=\"color: #00d7ff; text-decoration-color: #00d7ff\">None</span>, <span style=\"color: #00af00; text-decoration-color: #00af00\">32</span>)                  │           <span style=\"color: #00af00; text-decoration-color: #00af00\">2,080</span> │\n",
       "├──────────────────────────────────────┼─────────────────────────────┼─────────────────┤\n",
       "│ dropout_2 (<span style=\"color: #0087ff; text-decoration-color: #0087ff\">Dropout</span>)                  │ (<span style=\"color: #00d7ff; text-decoration-color: #00d7ff\">None</span>, <span style=\"color: #00af00; text-decoration-color: #00af00\">32</span>)                  │               <span style=\"color: #00af00; text-decoration-color: #00af00\">0</span> │\n",
       "├──────────────────────────────────────┼─────────────────────────────┼─────────────────┤\n",
       "│ dense_1 (<span style=\"color: #0087ff; text-decoration-color: #0087ff\">Dense</span>)                      │ (<span style=\"color: #00d7ff; text-decoration-color: #00d7ff\">None</span>, <span style=\"color: #00af00; text-decoration-color: #00af00\">1</span>)                   │              <span style=\"color: #00af00; text-decoration-color: #00af00\">33</span> │\n",
       "└──────────────────────────────────────┴─────────────────────────────┴─────────────────┘\n",
       "</pre>\n"
      ],
      "text/plain": [
       "┏━━━━━━━━━━━━━━━━━━━━━━━━━━━━━━━━━━━━━━┳━━━━━━━━━━━━━━━━━━━━━━━━━━━━━┳━━━━━━━━━━━━━━━━━┓\n",
       "┃\u001b[1m \u001b[0m\u001b[1mLayer (type)                        \u001b[0m\u001b[1m \u001b[0m┃\u001b[1m \u001b[0m\u001b[1mOutput Shape               \u001b[0m\u001b[1m \u001b[0m┃\u001b[1m \u001b[0m\u001b[1m        Param #\u001b[0m\u001b[1m \u001b[0m┃\n",
       "┡━━━━━━━━━━━━━━━━━━━━━━━━━━━━━━━━━━━━━━╇━━━━━━━━━━━━━━━━━━━━━━━━━━━━━╇━━━━━━━━━━━━━━━━━┩\n",
       "│ embedding (\u001b[38;5;33mEmbedding\u001b[0m)                │ (\u001b[38;5;45mNone\u001b[0m, \u001b[38;5;34m300\u001b[0m, \u001b[38;5;34m300\u001b[0m)            │     \u001b[38;5;34m218,392,200\u001b[0m │\n",
       "├──────────────────────────────────────┼─────────────────────────────┼─────────────────┤\n",
       "│ bidirectional (\u001b[38;5;33mBidirectional\u001b[0m)        │ (\u001b[38;5;45mNone\u001b[0m, \u001b[38;5;34m300\u001b[0m, \u001b[38;5;34m128\u001b[0m)            │         \u001b[38;5;34m186,880\u001b[0m │\n",
       "├──────────────────────────────────────┼─────────────────────────────┼─────────────────┤\n",
       "│ dropout (\u001b[38;5;33mDropout\u001b[0m)                    │ (\u001b[38;5;45mNone\u001b[0m, \u001b[38;5;34m300\u001b[0m, \u001b[38;5;34m128\u001b[0m)            │               \u001b[38;5;34m0\u001b[0m │\n",
       "├──────────────────────────────────────┼─────────────────────────────┼─────────────────┤\n",
       "│ batch_normalization                  │ (\u001b[38;5;45mNone\u001b[0m, \u001b[38;5;34m300\u001b[0m, \u001b[38;5;34m128\u001b[0m)            │             \u001b[38;5;34m512\u001b[0m │\n",
       "│ (\u001b[38;5;33mBatchNormalization\u001b[0m)                 │                             │                 │\n",
       "├──────────────────────────────────────┼─────────────────────────────┼─────────────────┤\n",
       "│ lstm_1 (\u001b[38;5;33mLSTM\u001b[0m)                        │ (\u001b[38;5;45mNone\u001b[0m, \u001b[38;5;34m64\u001b[0m)                  │          \u001b[38;5;34m49,408\u001b[0m │\n",
       "├──────────────────────────────────────┼─────────────────────────────┼─────────────────┤\n",
       "│ dropout_1 (\u001b[38;5;33mDropout\u001b[0m)                  │ (\u001b[38;5;45mNone\u001b[0m, \u001b[38;5;34m64\u001b[0m)                  │               \u001b[38;5;34m0\u001b[0m │\n",
       "├──────────────────────────────────────┼─────────────────────────────┼─────────────────┤\n",
       "│ dense (\u001b[38;5;33mDense\u001b[0m)                        │ (\u001b[38;5;45mNone\u001b[0m, \u001b[38;5;34m32\u001b[0m)                  │           \u001b[38;5;34m2,080\u001b[0m │\n",
       "├──────────────────────────────────────┼─────────────────────────────┼─────────────────┤\n",
       "│ dropout_2 (\u001b[38;5;33mDropout\u001b[0m)                  │ (\u001b[38;5;45mNone\u001b[0m, \u001b[38;5;34m32\u001b[0m)                  │               \u001b[38;5;34m0\u001b[0m │\n",
       "├──────────────────────────────────────┼─────────────────────────────┼─────────────────┤\n",
       "│ dense_1 (\u001b[38;5;33mDense\u001b[0m)                      │ (\u001b[38;5;45mNone\u001b[0m, \u001b[38;5;34m1\u001b[0m)                   │              \u001b[38;5;34m33\u001b[0m │\n",
       "└──────────────────────────────────────┴─────────────────────────────┴─────────────────┘\n"
      ]
     },
     "metadata": {},
     "output_type": "display_data"
    },
    {
     "data": {
      "text/html": [
       "<pre style=\"white-space:pre;overflow-x:auto;line-height:normal;font-family:Menlo,'DejaVu Sans Mono',consolas,'Courier New',monospace\"><span style=\"font-weight: bold\"> Total params: </span><span style=\"color: #00af00; text-decoration-color: #00af00\">218,631,113</span> (834.01 MB)\n",
       "</pre>\n"
      ],
      "text/plain": [
       "\u001b[1m Total params: \u001b[0m\u001b[38;5;34m218,631,113\u001b[0m (834.01 MB)\n"
      ]
     },
     "metadata": {},
     "output_type": "display_data"
    },
    {
     "data": {
      "text/html": [
       "<pre style=\"white-space:pre;overflow-x:auto;line-height:normal;font-family:Menlo,'DejaVu Sans Mono',consolas,'Courier New',monospace\"><span style=\"font-weight: bold\"> Trainable params: </span><span style=\"color: #00af00; text-decoration-color: #00af00\">238,657</span> (932.25 KB)\n",
       "</pre>\n"
      ],
      "text/plain": [
       "\u001b[1m Trainable params: \u001b[0m\u001b[38;5;34m238,657\u001b[0m (932.25 KB)\n"
      ]
     },
     "metadata": {},
     "output_type": "display_data"
    },
    {
     "data": {
      "text/html": [
       "<pre style=\"white-space:pre;overflow-x:auto;line-height:normal;font-family:Menlo,'DejaVu Sans Mono',consolas,'Courier New',monospace\"><span style=\"font-weight: bold\"> Non-trainable params: </span><span style=\"color: #00af00; text-decoration-color: #00af00\">218,392,456</span> (833.10 MB)\n",
       "</pre>\n"
      ],
      "text/plain": [
       "\u001b[1m Non-trainable params: \u001b[0m\u001b[38;5;34m218,392,456\u001b[0m (833.10 MB)\n"
      ]
     },
     "metadata": {},
     "output_type": "display_data"
    }
   ],
   "source": [
    "model.summary()"
   ]
  },
  {
   "cell_type": "code",
   "execution_count": null,
   "metadata": {
    "_cell_guid": "e49afc5e-d90f-4bf8-8d6f-60a7d32791f7",
    "_uuid": "0de77717-35d5-4d4f-870e-d211209f9a31",
    "collapsed": false,
    "execution": {
     "execution_failed": "2025-04-28T20:52:26.440Z",
     "iopub.execute_input": "2025-04-28T20:43:02.000835Z",
     "iopub.status.busy": "2025-04-28T20:43:02.000557Z"
    },
    "jupyter": {
     "outputs_hidden": false
    },
    "trusted": true
   },
   "outputs": [
    {
     "name": "stdout",
     "output_type": "stream",
     "text": [
      "Epoch 1/50\n"
     ]
    },
    {
     "name": "stderr",
     "output_type": "stream",
     "text": [
      "I0000 00:00:1745872988.331601     281 cuda_dnn.cc:529] Loaded cuDNN version 90300\n"
     ]
    },
    {
     "name": "stdout",
     "output_type": "stream",
     "text": [
      "\u001b[1m2293/2293\u001b[0m \u001b[32m━━━━━━━━━━━━━━━━━━━━\u001b[0m\u001b[37m\u001b[0m \u001b[1m160s\u001b[0m 67ms/step - accuracy: 0.6018 - loss: 0.6264 - val_accuracy: 0.7455 - val_loss: 0.4530 - learning_rate: 0.0010\n",
      "Epoch 2/50\n",
      "\u001b[1m2293/2293\u001b[0m \u001b[32m━━━━━━━━━━━━━━━━━━━━\u001b[0m\u001b[37m\u001b[0m \u001b[1m152s\u001b[0m 66ms/step - accuracy: 0.7456 - loss: 0.4486 - val_accuracy: 0.7844 - val_loss: 0.3938 - learning_rate: 0.0010\n",
      "Epoch 3/50\n",
      "\u001b[1m2293/2293\u001b[0m \u001b[32m━━━━━━━━━━━━━━━━━━━━\u001b[0m\u001b[37m\u001b[0m \u001b[1m152s\u001b[0m 66ms/step - accuracy: 0.7804 - loss: 0.3992 - val_accuracy: 0.7958 - val_loss: 0.3635 - learning_rate: 0.0010\n",
      "Epoch 4/50\n",
      "\u001b[1m1600/2293\u001b[0m \u001b[32m━━━━━━━━━━━━━\u001b[0m\u001b[37m━━━━━━━\u001b[0m \u001b[1m43s\u001b[0m 63ms/step - accuracy: 0.8001 - loss: 0.3698"
     ]
    }
   ],
   "source": [
    "from sklearn.utils import class_weight\n",
    "from tensorflow.keras.callbacks import EarlyStopping, ReduceLROnPlateau\n",
    "\n",
    "class_weights = class_weight.compute_class_weight(\n",
    "    class_weight='balanced',  \n",
    "    classes=np.unique(y_train),  \n",
    "    y=y_train \n",
    ")\n",
    "\n",
    "class_weight_dict = dict(enumerate(class_weights))\n",
    "\n",
    "early_stopping = EarlyStopping(monitor='val_loss',  \n",
    "                               patience=3, \n",
    "                               restore_best_weights=True)  \n",
    "\n",
    "reduce_lr = ReduceLROnPlateau(monitor='val_loss', \n",
    "                               factor=0.2,  \n",
    "                               patience=2,   \n",
    "                               min_lr=1e-4,    \n",
    "                               verbose=1)\n",
    "\n",
    "\n",
    "\n",
    "X_train_final, X_val, y_train_final, y_val = train_test_split(X_train, y_train, test_size=0.1, random_state=42)\n",
    "\n",
    "history = model.fit(\n",
    "    X_train_final, y_train_final,\n",
    "    validation_data=(X_val, y_val),\n",
    "    epochs=50,\n",
    "    batch_size=128,\n",
    "    verbose=1,\n",
    "    callbacks=[reduce_lr],\n",
    "    class_weight=class_weight_dict\n",
    ")\n",
    "\n"
   ]
  },
  {
   "cell_type": "code",
   "execution_count": null,
   "metadata": {
    "_cell_guid": "0d2940a4-034e-4034-a529-c5420b737cd7",
    "_uuid": "9dd7d80a-8bad-422f-8ecd-0a14cfc763f7",
    "collapsed": false,
    "execution": {
     "execution_failed": "2025-04-28T20:52:26.441Z"
    },
    "jupyter": {
     "outputs_hidden": false
    },
    "trusted": true
   },
   "outputs": [],
   "source": [
    "model.save(\"./Models/Arabic/lstm.h5\")  # Save model as .h5 file\n",
    "print(\"✅ Model saved as my_model.h5\")"
   ]
  },
  {
   "cell_type": "code",
   "execution_count": null,
   "metadata": {
    "execution": {
     "execution_failed": "2025-04-28T20:52:26.442Z"
    },
    "trusted": true
   },
   "outputs": [],
   "source": [
    "loss, accuracy = model.evaluate(X_test, y_test)\n"
   ]
  },
  {
   "cell_type": "code",
   "execution_count": null,
   "metadata": {
    "_cell_guid": "611f977e-d7e1-4540-9849-98118b8c3453",
    "_uuid": "7a2794aa-bafb-49e1-8c7b-909abd47a81b",
    "collapsed": false,
    "execution": {
     "execution_failed": "2025-04-28T20:52:26.442Z"
    },
    "jupyter": {
     "outputs_hidden": false
    },
    "trusted": true
   },
   "outputs": [],
   "source": [
    "print(f\"Test Accuracy: {accuracy*100:.2f}%\")\n",
    "\n",
    "\n",
    "from sklearn.metrics import classification_report\n",
    "y_pred = (model.predict(X_test) > 0.5).astype(\"int32\")\n",
    "print(classification_report(y_test, y_pred))"
   ]
  },
  {
   "cell_type": "code",
   "execution_count": null,
   "metadata": {
    "_cell_guid": "5d813199-35b9-44d6-b96d-1b6b8d3c8918",
    "_uuid": "063ef542-766a-4517-be62-dec5cac9d89a",
    "collapsed": false,
    "execution": {
     "execution_failed": "2025-04-28T20:52:26.442Z"
    },
    "jupyter": {
     "outputs_hidden": false
    },
    "trusted": true
   },
   "outputs": [],
   "source": [
    "import seaborn as sns\n",
    "\n",
    "cm = confusion_matrix(y_test, y_pred)\n",
    "\n",
    "plt.figure(figsize=(6, 6))\n",
    "sns.heatmap(cm, annot=True, fmt='d', cmap='Blues', xticklabels=['Class 0', 'Class 1'], yticklabels=['Class 0', 'Class 1'])\n",
    "plt.xlabel('Predicted')\n",
    "plt.ylabel('True')\n",
    "plt.title('Confusion Matrix')\n",
    "plt.show()"
   ]
  },
  {
   "cell_type": "code",
   "execution_count": null,
   "metadata": {
    "_cell_guid": "f3f5ce3d-6ebe-4dd1-ab2a-77cfb7b742cb",
    "_uuid": "35b687d6-77ca-45a2-b2d1-dafbe0c59622",
    "collapsed": false,
    "execution": {
     "execution_failed": "2025-04-28T20:52:26.443Z"
    },
    "jupyter": {
     "outputs_hidden": false
    },
    "trusted": true
   },
   "outputs": [],
   "source": [
    "# Accuracy\n",
    "plt.plot(history.history['accuracy'], label='Train Accuracy')\n",
    "plt.plot(history.history['val_accuracy'], label='Validation Accuracy')\n",
    "plt.title('Model Accuracy')\n",
    "plt.ylabel('Accuracy')\n",
    "plt.xlabel('Epoch')\n",
    "plt.legend()\n",
    "plt.grid()\n",
    "plt.show()\n",
    "\n",
    "# Loss\n",
    "plt.plot(history.history['loss'], label='Train Loss')\n",
    "plt.plot(history.history['val_loss'], label='Validation Loss')\n",
    "plt.title('Model Loss')\n",
    "plt.ylabel('Loss')\n",
    "plt.xlabel('Epoch')\n",
    "plt.legend()\n",
    "plt.grid()\n",
    "plt.show()"
   ]
  },
  {
   "cell_type": "code",
   "execution_count": null,
   "metadata": {
    "_cell_guid": "767d0717-c516-47e0-b930-95df8da6c3eb",
    "_uuid": "f3d567bf-e0d2-473c-9fa4-ce9703720569",
    "collapsed": false,
    "execution": {
     "execution_failed": "2025-04-28T20:52:26.443Z"
    },
    "jupyter": {
     "outputs_hidden": false
    },
    "trusted": true
   },
   "outputs": [],
   "source": [
    "from sklearn.metrics import roc_auc_score, roc_curve\n",
    "import matplotlib.pyplot as plt\n",
    "\n",
    "\n",
    "y_pred_proba = model.predict(X_test)\n",
    "\n",
    "\n",
    "auc_score = roc_auc_score(y_test, y_pred_proba)\n",
    "print(f\"AUC Score: {auc_score:.4f}\")"
   ]
  },
  {
   "cell_type": "code",
   "execution_count": null,
   "metadata": {
    "_cell_guid": "0f70a84a-c7cc-41b5-874d-620f4a9c543b",
    "_uuid": "c1ed2dec-3c81-4f59-befb-bb12ceb92145",
    "collapsed": false,
    "execution": {
     "execution_failed": "2025-04-28T20:52:26.443Z"
    },
    "jupyter": {
     "outputs_hidden": false
    },
    "trusted": true
   },
   "outputs": [],
   "source": [
    "fpr, tpr, thresholds = roc_curve(y_test, y_pred_proba)\n",
    "plt.figure(figsize=(8, 6))\n",
    "plt.plot(fpr, tpr, label=f\"AUC = {auc_score:.4f}\")\n",
    "plt.plot([0, 1], [0, 1], 'k--') \n",
    "plt.xlabel(\"False Positive Rate\")\n",
    "plt.ylabel(\"True Positive Rate\")\n",
    "plt.title(\"ROC Curve\")\n",
    "plt.legend(loc=\"lower right\")\n",
    "plt.grid()\n",
    "plt.show()"
   ]
  },
  {
   "cell_type": "code",
   "execution_count": null,
   "metadata": {
    "_cell_guid": "c9e044f2-22a8-4c1f-9cfb-0ce482f93543",
    "_uuid": "24b83b43-edd7-4b0d-9572-bc253bee10a7",
    "collapsed": false,
    "execution": {
     "execution_failed": "2025-04-28T20:52:26.444Z"
    },
    "jupyter": {
     "outputs_hidden": false
    },
    "trusted": true
   },
   "outputs": [],
   "source": [
    "def predict_fake_news(text):\n",
    "    sequence = tokenizer.texts_to_sequences([text])\n",
    "    padded = pad_sequences(sequence, maxlen=300)  \n",
    "\n",
    "    # Predict\n",
    "    prediction = model.predict(padded)[0][0]\n",
    "    label = \"Fake\" if prediction > 0.5 else \"Real\"\n",
    "\n",
    "    print(f\"Text: {text}\")\n",
    "    print(f\"Prediction: {prediction:.4f} → {label}\")\n",
    "\n",
    "predict_fake_news(\"تم اكتشاف علاج جديد للسرطان، وهو معجزة علمية لم يسبق لها مثيل.\")\n"
   ]
  },
  {
   "cell_type": "markdown",
   "metadata": {},
   "source": [
    "> ## Train XLM Roberta Model"
   ]
  },
  {
   "cell_type": "code",
   "execution_count": 40,
   "metadata": {
    "_cell_guid": "14fd1510-b1da-43ac-a4cf-a6997dd26629",
    "_uuid": "a0d7ccf0-aa81-49ff-8919-696da0a21624",
    "collapsed": false,
    "execution": {
     "iopub.execute_input": "2025-04-28T21:13:20.199235Z",
     "iopub.status.busy": "2025-04-28T21:13:20.198657Z",
     "iopub.status.idle": "2025-04-28T21:13:49.653672Z",
     "shell.execute_reply": "2025-04-28T21:13:49.653088Z",
     "shell.execute_reply.started": "2025-04-28T21:13:20.199213Z"
    },
    "jupyter": {
     "outputs_hidden": false
    },
    "trusted": true
   },
   "outputs": [
    {
     "name": "stderr",
     "output_type": "stream",
     "text": [
      "Some weights of XLMRobertaForSequenceClassification were not initialized from the model checkpoint at xlm-roberta-base and are newly initialized: ['classifier.dense.bias', 'classifier.dense.weight', 'classifier.out_proj.bias', 'classifier.out_proj.weight']\n",
      "You should probably TRAIN this model on a down-stream task to be able to use it for predictions and inference.\n"
     ]
    }
   ],
   "source": [
    "\n",
    "\n",
    "train_df, temp_df = train_test_split(df_ar, test_size=0.2, random_state=42)\n",
    "val_df, test_df = train_test_split(temp_df, test_size=0.5, random_state=42)\n",
    "\n",
    "train_dataset = Dataset.from_pandas(train_df)\n",
    "val_dataset = Dataset.from_pandas(val_df)\n",
    "test_dataset = Dataset.from_pandas(test_df)\n",
    "\n",
    "# Load tokenizer and model\n",
    "model_name = \"xlm-roberta-base\"\n",
    "tokenizer = XLMRobertaTokenizer.from_pretrained(model_name)\n",
    "model = XLMRobertaForSequenceClassification.from_pretrained(model_name, num_labels=len(df_ar['label'].unique()))"
   ]
  },
  {
   "cell_type": "code",
   "execution_count": null,
   "metadata": {
    "_cell_guid": "6294d4cc-8659-413a-b003-8191deb65cc0",
    "_uuid": "320a6bf9-b88b-495c-b640-bbff856af13b",
    "collapsed": false,
    "execution": {
     "iopub.execute_input": "2025-04-28T21:14:19.952060Z",
     "iopub.status.busy": "2025-04-28T21:14:19.951562Z",
     "iopub.status.idle": "2025-04-28T21:25:35.286717Z",
     "shell.execute_reply": "2025-04-28T21:25:35.286196Z",
     "shell.execute_reply.started": "2025-04-28T21:14:19.952039Z"
    },
    "jupyter": {
     "outputs_hidden": false
    },
    "trusted": true
   },
   "outputs": [
    {
     "data": {
      "application/vnd.jupyter.widget-view+json": {
       "model_id": "9df3ed16f0bb4d7b945c0591c6885660",
       "version_major": 2,
       "version_minor": 0
      },
      "text/plain": [
       "Map:   0%|          | 0/326032 [00:00<?, ? examples/s]"
      ]
     },
     "metadata": {},
     "output_type": "display_data"
    },
    {
     "data": {
      "application/vnd.jupyter.widget-view+json": {
       "model_id": "c17b2cfcce7246f2a21be1e4aec0e372",
       "version_major": 2,
       "version_minor": 0
      },
      "text/plain": [
       "Map:   0%|          | 0/40754 [00:00<?, ? examples/s]"
      ]
     },
     "metadata": {},
     "output_type": "display_data"
    },
    {
     "data": {
      "application/vnd.jupyter.widget-view+json": {
       "model_id": "03032c507f924a9eb822e5686854f1fb",
       "version_major": 2,
       "version_minor": 0
      },
      "text/plain": [
       "Map:   0%|          | 0/40754 [00:00<?, ? examples/s]"
      ]
     },
     "metadata": {},
     "output_type": "display_data"
    }
   ],
   "source": [
    "def tokenize_function(examples):\n",
    "    return tokenizer(examples['text'], padding=\"max_length\", truncation=True, max_length=300)\n",
    "\n",
    "train_dataset = train_dataset.map(tokenize_function, batched=True)\n",
    "val_dataset = val_dataset.map(tokenize_function, batched=True)\n",
    "test_dataset = test_dataset.map(tokenize_function, batched=True)\n",
    "\n",
    "train_dataset.set_format(type='torch', columns=['input_ids', 'attention_mask', 'label'])\n",
    "val_dataset.set_format(type='torch', columns=['input_ids', 'attention_mask', 'label'])\n",
    "test_dataset.set_format(type='torch', columns=['input_ids', 'attention_mask', 'label'])\n",
    "\n",
    "def compute_metrics(eval_pred):\n",
    "    logits, labels = eval_pred\n",
    "    predictions = torch.argmax(torch.tensor(logits), dim=-1)\n",
    "    accuracy = accuracy_score(labels, predictions)\n",
    "    return {'accuracy': accuracy}"
   ]
  },
  {
   "cell_type": "code",
   "execution_count": 42,
   "metadata": {
    "_cell_guid": "9f739175-d933-4443-ba81-8d0421674d39",
    "_uuid": "80df5404-3462-47fa-9b90-8208267999ff",
    "collapsed": false,
    "execution": {
     "iopub.execute_input": "2025-04-28T21:26:40.999275Z",
     "iopub.status.busy": "2025-04-28T21:26:40.998956Z",
     "iopub.status.idle": "2025-04-28T21:26:41.004136Z",
     "shell.execute_reply": "2025-04-28T21:26:41.003402Z",
     "shell.execute_reply.started": "2025-04-28T21:26:40.999253Z"
    },
    "jupyter": {
     "outputs_hidden": false
    },
    "trusted": true
   },
   "outputs": [
    {
     "name": "stdout",
     "output_type": "stream",
     "text": [
      "CUDA available: True\n",
      "GPU count: 1\n",
      "Current device: 0\n",
      "Device name: Tesla P100-PCIE-16GB\n"
     ]
    }
   ],
   "source": [
    "import torch\n",
    "print(f\"CUDA available: {torch.cuda.is_available()}\")  \n",
    "print(f\"GPU count: {torch.cuda.device_count()}\")       \n",
    "print(f\"Current device: {torch.cuda.current_device()}\")  \n",
    "print(f\"Device name: {torch.cuda.get_device_name(0)}\")"
   ]
  },
  {
   "cell_type": "code",
   "execution_count": null,
   "metadata": {
    "_cell_guid": "3324ad7f-7dc8-4903-883d-9a120334b02e",
    "_uuid": "aa8b27ce-1d42-402c-b452-32d3a7476bc2",
    "collapsed": false,
    "execution": {
     "iopub.execute_input": "2025-04-28T21:26:42.337789Z",
     "iopub.status.busy": "2025-04-28T21:26:42.337528Z",
     "iopub.status.idle": "2025-04-28T21:26:49.968381Z",
     "shell.execute_reply": "2025-04-28T21:26:49.967769Z",
     "shell.execute_reply.started": "2025-04-28T21:26:42.337769Z"
    },
    "jupyter": {
     "outputs_hidden": false
    },
    "trusted": true
   },
   "outputs": [
    {
     "name": "stderr",
     "output_type": "stream",
     "text": [
      "\u001b[34m\u001b[1mwandb\u001b[0m: \u001b[33mWARNING\u001b[0m If you're specifying your api key in code, ensure this code is not shared publicly.\n",
      "\u001b[34m\u001b[1mwandb\u001b[0m: \u001b[33mWARNING\u001b[0m Consider setting the WANDB_API_KEY environment variable, or running `wandb login` from the command line.\n",
      "\u001b[34m\u001b[1mwandb\u001b[0m: Appending key for api.wandb.ai to your netrc file: /root/.netrc\n",
      "\u001b[34m\u001b[1mwandb\u001b[0m: Currently logged in as: \u001b[33mmohamededderyouch5\u001b[0m (\u001b[33mmohamededderyouch5-01\u001b[0m) to \u001b[32mhttps://api.wandb.ai\u001b[0m. Use \u001b[1m`wandb login --relogin`\u001b[0m to force relogin\n"
     ]
    },
    {
     "data": {
      "text/plain": [
       "True"
      ]
     },
     "execution_count": 43,
     "metadata": {},
     "output_type": "execute_result"
    }
   ],
   "source": [
    "import wandb\n",
    "wandb.login(key=\"your key here\")"
   ]
  },
  {
   "cell_type": "code",
   "execution_count": 44,
   "metadata": {
    "_cell_guid": "f7012ac9-6ace-4d6a-8a71-5f9b27ad8d4b",
    "_uuid": "534b3756-c0d4-4d7c-997d-9f6098e34d2e",
    "collapsed": false,
    "execution": {
     "iopub.execute_input": "2025-04-28T21:26:49.970295Z",
     "iopub.status.busy": "2025-04-28T21:26:49.969640Z",
     "iopub.status.idle": "2025-04-28T21:26:56.501548Z",
     "shell.execute_reply": "2025-04-28T21:26:56.500978Z",
     "shell.execute_reply.started": "2025-04-28T21:26:49.970276Z"
    },
    "jupyter": {
     "outputs_hidden": false
    },
    "trusted": true
   },
   "outputs": [
    {
     "name": "stderr",
     "output_type": "stream",
     "text": [
      "\u001b[34m\u001b[1mwandb\u001b[0m: Using wandb-core as the SDK backend.  Please refer to https://wandb.me/wandb-core for more information.\n"
     ]
    },
    {
     "data": {
      "text/html": [
       "Tracking run with wandb version 0.19.6"
      ],
      "text/plain": [
       "<IPython.core.display.HTML object>"
      ]
     },
     "metadata": {},
     "output_type": "display_data"
    },
    {
     "data": {
      "text/html": [
       "Run data is saved locally in <code>/kaggle/working/wandb/run-20250428_212649-8z164thb</code>"
      ],
      "text/plain": [
       "<IPython.core.display.HTML object>"
      ]
     },
     "metadata": {},
     "output_type": "display_data"
    },
    {
     "data": {
      "text/html": [
       "Syncing run <strong><a href='https://wandb.ai/mohamededderyouch5-01/FND_project_arabic/runs/8z164thb' target=\"_blank\">resilient-frost-5</a></strong> to <a href='https://wandb.ai/mohamededderyouch5-01/FND_project_arabic' target=\"_blank\">Weights & Biases</a> (<a href='https://wandb.me/developer-guide' target=\"_blank\">docs</a>)<br>"
      ],
      "text/plain": [
       "<IPython.core.display.HTML object>"
      ]
     },
     "metadata": {},
     "output_type": "display_data"
    },
    {
     "data": {
      "text/html": [
       " View project at <a href='https://wandb.ai/mohamededderyouch5-01/FND_project_arabic' target=\"_blank\">https://wandb.ai/mohamededderyouch5-01/FND_project_arabic</a>"
      ],
      "text/plain": [
       "<IPython.core.display.HTML object>"
      ]
     },
     "metadata": {},
     "output_type": "display_data"
    },
    {
     "data": {
      "text/html": [
       " View run at <a href='https://wandb.ai/mohamededderyouch5-01/FND_project_arabic/runs/8z164thb' target=\"_blank\">https://wandb.ai/mohamededderyouch5-01/FND_project_arabic/runs/8z164thb</a>"
      ],
      "text/plain": [
       "<IPython.core.display.HTML object>"
      ]
     },
     "metadata": {},
     "output_type": "display_data"
    },
    {
     "data": {
      "text/html": [
       "<button onClick=\"this.nextSibling.style.display='block';this.style.display='none';\">Display W&B run</button><iframe src='https://wandb.ai/mohamededderyouch5-01/FND_project_arabic/runs/8z164thb?jupyter=true' style='border:none;width:100%;height:420px;display:none;'></iframe>"
      ],
      "text/plain": [
       "<wandb.sdk.wandb_run.Run at 0x79e70696fd50>"
      ]
     },
     "execution_count": 44,
     "metadata": {},
     "output_type": "execute_result"
    }
   ],
   "source": [
    "wandb.init(project=\"FND_project_arabic\")"
   ]
  },
  {
   "cell_type": "code",
   "execution_count": null,
   "metadata": {
    "_cell_guid": "f98a85c0-1a61-4db1-a9ea-1357601a2b39",
    "_uuid": "799dacc1-ea7b-4a91-87e4-6268b9dc262d",
    "collapsed": false,
    "execution": {
     "iopub.execute_input": "2025-04-28T21:37:12.899313Z",
     "iopub.status.busy": "2025-04-28T21:37:12.898702Z",
     "iopub.status.idle": "2025-04-28T21:37:12.937306Z",
     "shell.execute_reply": "2025-04-28T21:37:12.936570Z",
     "shell.execute_reply.started": "2025-04-28T21:37:12.899289Z"
    },
    "jupyter": {
     "outputs_hidden": false
    },
    "trusted": true
   },
   "outputs": [],
   "source": [
    "\n",
    "from transformers import TrainingArguments\n",
    "\n",
    "training_args = TrainingArguments(\n",
    "    output_dir=\"results\",\n",
    "    eval_strategy=\"steps\",        \n",
    "    eval_steps=5000,                     \n",
    "    save_strategy=\"steps\",              \n",
    "    save_steps=5000,\n",
    "    save_total_limit=2,                 \n",
    "\n",
    "    learning_rate=2e-5,\n",
    "    per_device_train_batch_size=32,     \n",
    "    per_device_eval_batch_size=32,\n",
    "    gradient_accumulation_steps=2,       \n",
    "    num_train_epochs=7,\n",
    "    weight_decay=0.01,\n",
    "\n",
    "    load_best_model_at_end=True,         \n",
    "    metric_for_best_model=\"accuracy\",    \n",
    "    greater_is_better=True,              \n",
    "\n",
    "    logging_dir=\"./logs\",                \n",
    "    logging_strategy=\"steps\",           \n",
    "    logging_steps=500,                   \n",
    "    disable_tqdm=False,                  \n",
    "    \n",
    "    report_to=\"wandb\",             \n",
    "    fp16=True,                           \n",
    ")\n",
    "\n",
    "# Trainer\n",
    "trainer = Trainer(\n",
    "    model=model,\n",
    "    args=training_args,\n",
    "    train_dataset=train_dataset,\n",
    "    eval_dataset=val_dataset,\n",
    "    compute_metrics=compute_metrics,\n",
    ")"
   ]
  },
  {
   "cell_type": "code",
   "execution_count": 66,
   "metadata": {
    "_cell_guid": "1da092ba-c857-4778-b6c1-507716f18d1b",
    "_uuid": "914c7f6b-fb6a-4685-b3bc-5e1a073b0eb4",
    "collapsed": false,
    "execution": {
     "iopub.execute_input": "2025-04-28T21:37:14.829837Z",
     "iopub.status.busy": "2025-04-28T21:37:14.829185Z",
     "iopub.status.idle": "2025-04-28T21:37:27.111267Z",
     "shell.execute_reply": "2025-04-28T21:37:27.110328Z",
     "shell.execute_reply.started": "2025-04-28T21:37:14.829815Z"
    },
    "jupyter": {
     "outputs_hidden": false
    },
    "trusted": true
   },
   "outputs": [
    {
     "data": {
      "text/html": [
       "\n",
       "    <div>\n",
       "      \n",
       "      <progress value='7' max='35658' style='width:300px; height:20px; vertical-align: middle;'></progress>\n",
       "      [    7/35658 00:08 < 17:16:10, 0.57 it/s, Epoch 0.00/7]\n",
       "    </div>\n",
       "    <table border=\"1\" class=\"dataframe\">\n",
       "  <thead>\n",
       " <tr style=\"text-align: left;\">\n",
       "      <th>Step</th>\n",
       "      <th>Training Loss</th>\n",
       "      <th>Validation Loss</th>\n",
       "    </tr>\n",
       "  </thead>\n",
       "  <tbody>\n",
       "  </tbody>\n",
       "</table><p>"
      ],
      "text/plain": [
       "<IPython.core.display.HTML object>"
      ]
     },
     "metadata": {},
     "output_type": "display_data"
    },
    {
     "ename": "KeyboardInterrupt",
     "evalue": "",
     "output_type": "error",
     "traceback": [
      "\u001b[0;31m---------------------------------------------------------------------------\u001b[0m",
      "\u001b[0;31mKeyboardInterrupt\u001b[0m                         Traceback (most recent call last)",
      "\u001b[0;32m/tmp/ipykernel_31/4049841748.py\u001b[0m in \u001b[0;36m<cell line: 0>\u001b[0;34m()\u001b[0m\n\u001b[0;32m----> 1\u001b[0;31m \u001b[0mtrainer\u001b[0m\u001b[0;34m.\u001b[0m\u001b[0mtrain\u001b[0m\u001b[0;34m(\u001b[0m\u001b[0;34m)\u001b[0m\u001b[0;34m\u001b[0m\u001b[0;34m\u001b[0m\u001b[0m\n\u001b[0m",
      "\u001b[0;32m/usr/local/lib/python3.11/dist-packages/transformers/trainer.py\u001b[0m in \u001b[0;36mtrain\u001b[0;34m(self, resume_from_checkpoint, trial, ignore_keys_for_eval, **kwargs)\u001b[0m\n\u001b[1;32m   2243\u001b[0m                 \u001b[0mhf_hub_utils\u001b[0m\u001b[0;34m.\u001b[0m\u001b[0menable_progress_bars\u001b[0m\u001b[0;34m(\u001b[0m\u001b[0;34m)\u001b[0m\u001b[0;34m\u001b[0m\u001b[0;34m\u001b[0m\u001b[0m\n\u001b[1;32m   2244\u001b[0m         \u001b[0;32melse\u001b[0m\u001b[0;34m:\u001b[0m\u001b[0;34m\u001b[0m\u001b[0;34m\u001b[0m\u001b[0m\n\u001b[0;32m-> 2245\u001b[0;31m             return inner_training_loop(\n\u001b[0m\u001b[1;32m   2246\u001b[0m                 \u001b[0margs\u001b[0m\u001b[0;34m=\u001b[0m\u001b[0margs\u001b[0m\u001b[0;34m,\u001b[0m\u001b[0;34m\u001b[0m\u001b[0;34m\u001b[0m\u001b[0m\n\u001b[1;32m   2247\u001b[0m                 \u001b[0mresume_from_checkpoint\u001b[0m\u001b[0;34m=\u001b[0m\u001b[0mresume_from_checkpoint\u001b[0m\u001b[0;34m,\u001b[0m\u001b[0;34m\u001b[0m\u001b[0;34m\u001b[0m\u001b[0m\n",
      "\u001b[0;32m/usr/local/lib/python3.11/dist-packages/transformers/trainer.py\u001b[0m in \u001b[0;36m_inner_training_loop\u001b[0;34m(self, batch_size, args, resume_from_checkpoint, trial, ignore_keys_for_eval)\u001b[0m\n\u001b[1;32m   2563\u001b[0m                         \u001b[0margs\u001b[0m\u001b[0;34m.\u001b[0m\u001b[0mlogging_nan_inf_filter\u001b[0m\u001b[0;34m\u001b[0m\u001b[0;34m\u001b[0m\u001b[0m\n\u001b[1;32m   2564\u001b[0m                         \u001b[0;32mand\u001b[0m \u001b[0;32mnot\u001b[0m \u001b[0mis_torch_xla_available\u001b[0m\u001b[0;34m(\u001b[0m\u001b[0;34m)\u001b[0m\u001b[0;34m\u001b[0m\u001b[0;34m\u001b[0m\u001b[0m\n\u001b[0;32m-> 2565\u001b[0;31m                         \u001b[0;32mand\u001b[0m \u001b[0;34m(\u001b[0m\u001b[0mtorch\u001b[0m\u001b[0;34m.\u001b[0m\u001b[0misnan\u001b[0m\u001b[0;34m(\u001b[0m\u001b[0mtr_loss_step\u001b[0m\u001b[0;34m)\u001b[0m \u001b[0;32mor\u001b[0m \u001b[0mtorch\u001b[0m\u001b[0;34m.\u001b[0m\u001b[0misinf\u001b[0m\u001b[0;34m(\u001b[0m\u001b[0mtr_loss_step\u001b[0m\u001b[0;34m)\u001b[0m\u001b[0;34m)\u001b[0m\u001b[0;34m\u001b[0m\u001b[0;34m\u001b[0m\u001b[0m\n\u001b[0m\u001b[1;32m   2566\u001b[0m                     ):\n\u001b[1;32m   2567\u001b[0m                         \u001b[0;31m# if loss is nan or inf simply add the average of previous logged losses\u001b[0m\u001b[0;34m\u001b[0m\u001b[0;34m\u001b[0m\u001b[0m\n",
      "\u001b[0;31mKeyboardInterrupt\u001b[0m: "
     ]
    }
   ],
   "source": [
    "\n",
    "trainer.train()"
   ]
  },
  {
   "cell_type": "code",
   "execution_count": null,
   "metadata": {
    "_cell_guid": "e51ef7da-6b3a-4849-a9bb-14ccfa00949a",
    "_uuid": "cf28c5cf-1019-4e6b-9748-2bb0d2e9c44c",
    "collapsed": false,
    "execution": {
     "execution_failed": "2025-04-28T20:52:26.448Z"
    },
    "jupyter": {
     "outputs_hidden": false
    },
    "trusted": true
   },
   "outputs": [],
   "source": [
    "test_results = trainer.evaluate(test_dataset)\n",
    "print(test_results)\n",
    "\n",
    "predictions, labels, _ = trainer.predict(test_dataset)\n",
    "preds = torch.argmax(torch.tensor(predictions), dim=1)\n",
    "print(classification_report(labels, preds, target_names=[str(i) for i in range(len(df_ar['label'].unique()))]))"
   ]
  },
  {
   "cell_type": "code",
   "execution_count": null,
   "metadata": {
    "_cell_guid": "832214b9-15bd-42f3-8df1-50458d0661db",
    "_uuid": "66222dff-1e5e-46e3-b0ca-24130aab5436",
    "collapsed": false,
    "execution": {
     "execution_failed": "2025-04-28T20:52:26.448Z"
    },
    "jupyter": {
     "outputs_hidden": false
    },
    "trusted": true
   },
   "outputs": [],
   "source": [
    "model.save_pretrained(\"./Models/Arabic/prerainmodel\")\n",
    "\n",
    "tokenizer.save_pretrained(\"./Models/Arabic/prerainmodel\")\n",
    "\n",
    "print(\"✅ Model and tokenizer saved.\")"
   ]
  }
 ],
 "metadata": {
  "kaggle": {
   "accelerator": "gpu",
   "dataSources": [
    {
     "datasetId": 1876112,
     "sourceId": 3064243,
     "sourceType": "datasetVersion"
    },
    {
     "datasetId": 7057008,
     "sourceId": 11518423,
     "sourceType": "datasetVersion"
    }
   ],
   "isGpuEnabled": true,
   "isInternetEnabled": true,
   "language": "python",
   "sourceType": "notebook"
  },
  "kernelspec": {
   "display_name": "Python 3",
   "language": "python",
   "name": "python3"
  },
  "language_info": {
   "codemirror_mode": {
    "name": "ipython",
    "version": 3
   },
   "file_extension": ".py",
   "mimetype": "text/x-python",
   "name": "python",
   "nbconvert_exporter": "python",
   "pygments_lexer": "ipython3",
   "version": "3.11.11"
  }
 },
 "nbformat": 4,
 "nbformat_minor": 4
}
